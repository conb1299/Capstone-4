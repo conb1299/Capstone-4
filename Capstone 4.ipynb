{
 "cells": [
  {
   "cell_type": "code",
   "execution_count": 527,
   "metadata": {
    "collapsed": true
   },
   "outputs": [],
   "source": [
    "%matplotlib inline\n",
    "import numpy as np\n",
    "import pandas as pd\n",
    "import scipy\n",
    "import sklearn\n",
    "import spacy\n",
    "import matplotlib.pyplot as plt\n",
    "import seaborn as sns\n",
    "import re\n",
    "from nltk.corpus import gutenberg, stopwords\n",
    "from collections import Counter\n",
    "import nltk\n",
    "import statsmodels.api as sm\n",
    "import string"
   ]
  },
  {
   "cell_type": "markdown",
   "metadata": {},
   "source": [
    "# Unit 4 Capstone: Poetry"
   ]
  },
  {
   "cell_type": "markdown",
   "metadata": {},
   "source": [
    "Our data was taken from https://www.kaggle.com/ultrajack/modern-renaissance-poetry. Our collection of poetry is separated into 3 catergories based on the type of poem, Mythology & Folklore, Nature, and Love. Additionally our data is also separated into 2 catergories based on their time period, Renaissance and Modern. Using the information given to us and some supervised and unsupervised learning techniques we are going to try and find out more about these poems and see if we can predict which catergory each poem should be placed using our own grouping methods."
   ]
  },
  {
   "cell_type": "code",
   "execution_count": 528,
   "metadata": {
    "collapsed": true
   },
   "outputs": [],
   "source": [
    "df = pd.read_csv('all.csv')"
   ]
  },
  {
   "cell_type": "code",
   "execution_count": 529,
   "metadata": {},
   "outputs": [
    {
     "data": {
      "text/html": [
       "<div>\n",
       "<style>\n",
       "    .dataframe thead tr:only-child th {\n",
       "        text-align: right;\n",
       "    }\n",
       "\n",
       "    .dataframe thead th {\n",
       "        text-align: left;\n",
       "    }\n",
       "\n",
       "    .dataframe tbody tr th {\n",
       "        vertical-align: top;\n",
       "    }\n",
       "</style>\n",
       "<table border=\"1\" class=\"dataframe\">\n",
       "  <thead>\n",
       "    <tr style=\"text-align: right;\">\n",
       "      <th></th>\n",
       "      <th>author</th>\n",
       "      <th>content</th>\n",
       "      <th>poem name</th>\n",
       "      <th>age</th>\n",
       "      <th>type</th>\n",
       "    </tr>\n",
       "  </thead>\n",
       "  <tbody>\n",
       "    <tr>\n",
       "      <th>0</th>\n",
       "      <td>WILLIAM SHAKESPEARE</td>\n",
       "      <td>Let the bird of loudest lay\\nOn the sole Arabi...</td>\n",
       "      <td>The Phoenix and the Turtle</td>\n",
       "      <td>Renaissance</td>\n",
       "      <td>Mythology &amp; Folklore</td>\n",
       "    </tr>\n",
       "    <tr>\n",
       "      <th>1</th>\n",
       "      <td>DUCHESS OF NEWCASTLE MARGARET CAVENDISH</td>\n",
       "      <td>Sir Charles into my chamber coming in,\\nWhen I...</td>\n",
       "      <td>An Epilogue to the Above</td>\n",
       "      <td>Renaissance</td>\n",
       "      <td>Mythology &amp; Folklore</td>\n",
       "    </tr>\n",
       "    <tr>\n",
       "      <th>2</th>\n",
       "      <td>THOMAS BASTARD</td>\n",
       "      <td>Our vice runs beyond all that old men saw,\\nAn...</td>\n",
       "      <td>Book 7, Epigram 42</td>\n",
       "      <td>Renaissance</td>\n",
       "      <td>Mythology &amp; Folklore</td>\n",
       "    </tr>\n",
       "    <tr>\n",
       "      <th>3</th>\n",
       "      <td>EDMUND SPENSER</td>\n",
       "      <td>Lo I the man, whose Muse whilome did maske,\\nA...</td>\n",
       "      <td>from The Faerie Queene: Book I, Canto I</td>\n",
       "      <td>Renaissance</td>\n",
       "      <td>Mythology &amp; Folklore</td>\n",
       "    </tr>\n",
       "    <tr>\n",
       "      <th>4</th>\n",
       "      <td>RICHARD BARNFIELD</td>\n",
       "      <td>Long have I longd to see my love againe,\\nStil...</td>\n",
       "      <td>Sonnet 16</td>\n",
       "      <td>Renaissance</td>\n",
       "      <td>Mythology &amp; Folklore</td>\n",
       "    </tr>\n",
       "  </tbody>\n",
       "</table>\n",
       "</div>"
      ],
      "text/plain": [
       "                                    author  \\\n",
       "0                      WILLIAM SHAKESPEARE   \n",
       "1  DUCHESS OF NEWCASTLE MARGARET CAVENDISH   \n",
       "2                           THOMAS BASTARD   \n",
       "3                           EDMUND SPENSER   \n",
       "4                        RICHARD BARNFIELD   \n",
       "\n",
       "                                             content  \\\n",
       "0  Let the bird of loudest lay\\nOn the sole Arabi...   \n",
       "1  Sir Charles into my chamber coming in,\\nWhen I...   \n",
       "2  Our vice runs beyond all that old men saw,\\nAn...   \n",
       "3  Lo I the man, whose Muse whilome did maske,\\nA...   \n",
       "4  Long have I longd to see my love againe,\\nStil...   \n",
       "\n",
       "                                 poem name          age                  type  \n",
       "0               The Phoenix and the Turtle  Renaissance  Mythology & Folklore  \n",
       "1                 An Epilogue to the Above  Renaissance  Mythology & Folklore  \n",
       "2                       Book 7, Epigram 42  Renaissance  Mythology & Folklore  \n",
       "3  from The Faerie Queene: Book I, Canto I  Renaissance  Mythology & Folklore  \n",
       "4                                Sonnet 16  Renaissance  Mythology & Folklore  "
      ]
     },
     "execution_count": 529,
     "metadata": {},
     "output_type": "execute_result"
    }
   ],
   "source": [
    "df.head()"
   ]
  },
  {
   "cell_type": "code",
   "execution_count": 530,
   "metadata": {},
   "outputs": [
    {
     "data": {
      "text/plain": [
       "Index(['author', 'content', 'poem name', 'age', 'type'], dtype='object')"
      ]
     },
     "execution_count": 530,
     "metadata": {},
     "output_type": "execute_result"
    }
   ],
   "source": [
    "df.columns"
   ]
  },
  {
   "cell_type": "code",
   "execution_count": 531,
   "metadata": {},
   "outputs": [
    {
     "data": {
      "text/plain": [
       "array(['Mythology & Folklore', 'Nature', 'Love'], dtype=object)"
      ]
     },
     "execution_count": 531,
     "metadata": {},
     "output_type": "execute_result"
    }
   ],
   "source": [
    "df.type.unique()"
   ]
  },
  {
   "cell_type": "code",
   "execution_count": 532,
   "metadata": {},
   "outputs": [
    {
     "data": {
      "text/plain": [
       "array(['WILLIAM SHAKESPEARE', 'DUCHESS OF NEWCASTLE MARGARET CAVENDISH',\n",
       "       'THOMAS BASTARD', 'EDMUND SPENSER', 'RICHARD BARNFIELD',\n",
       "       'SIR WALTER RALEGH', 'QUEEN ELIZABETH I', 'JOHN DONNE',\n",
       "       'JOHN SKELTON', 'CHRISTOPHER MARLOWE', 'LADY MARY WROTH',\n",
       "       'ROBERT SOUTHWELL, SJ', 'WILLIAM BYRD', 'GEORGE GASCOIGNE',\n",
       "       'HENRY VIII, KING OF ENGLAND', 'SIR THOMAS WYATT', 'EN JONSON',\n",
       "       'ORLANDO GIBBONS', 'THOMAS NASHE', 'SIR PHILIP SIDNEY',\n",
       "       'SECOND BARON VAUX OF HARROWDEN THOMAS, LORD VAUX',\n",
       "       'HENRY HOWARD, EARL OF SURREY', 'GEORGE CHAPMAN', 'THOMAS CAMPION',\n",
       "       'ISABELLA WHITNEY', 'SAMUEL DANIEL', 'THOMAS HEYWOOD',\n",
       "       'GIOVANNI BATTISTA GUARINI', 'SIR EDWARD DYER', 'THOMAS LODGE',\n",
       "       'JOHN FLETCHER', 'EDGAR LEE MASTERS', 'WILLIAM BUTLER YEATS',\n",
       "       'FORD MADOX FORD', 'IVOR GURNEY', 'CARL SANDBURG', 'EZRA POUND',\n",
       "       'ELINOR WYLIE', 'GEORGE SANTAYANA', 'LOUISE BOGAN',\n",
       "       'KENNETH SLESSOR', 'HART CRANE', 'D. H. LAWRENCE',\n",
       "       'HUGH MACDIARMID', 'E. E. CUMMINGS', 'LOUIS UNTERMEYER',\n",
       "       'WALLACE STEVENS', 'MARJORIE PICKTHALL', 'RICHARD ALDINGTON',\n",
       "       'GUILLAUME APOLLINAIRE', 'SAMUEL GREENBERG', 'STEPHEN SPENDER',\n",
       "       'EDITH SITWELL', 'PAUL LAURENCE DUNBAR', 'SARA TEASDALE',\n",
       "       'MINA LOY', 'MARIANNE MOORE', 'ASIL BUNTING', 'MICHAEL ANANIA',\n",
       "       'ARCHIBALD MACLEISH', 'CONRAD AIKEN', 'MALCOLM COWLEY',\n",
       "       'KATHERINE MANSFIELD', 'T. S. ELIOT', 'GERTRUDE STEIN',\n",
       "       'JAMES JOYCE', 'KENNETH FEARING'], dtype=object)"
      ]
     },
     "execution_count": 532,
     "metadata": {},
     "output_type": "execute_result"
    }
   ],
   "source": [
    "df.author.unique()"
   ]
  },
  {
   "cell_type": "code",
   "execution_count": 533,
   "metadata": {},
   "outputs": [
    {
     "data": {
      "text/plain": [
       "array(['Renaissance', 'Modern'], dtype=object)"
      ]
     },
     "execution_count": 533,
     "metadata": {},
     "output_type": "execute_result"
    }
   ],
   "source": [
    "df.age.unique()"
   ]
  },
  {
   "cell_type": "code",
   "execution_count": 534,
   "metadata": {
    "collapsed": true
   },
   "outputs": [],
   "source": [
    "poetry=df.content.values\n"
   ]
  },
  {
   "cell_type": "code",
   "execution_count": 535,
   "metadata": {
    "collapsed": true
   },
   "outputs": [],
   "source": [
    "df['type2'] = df.type.apply(lambda x: 1 if x =='Mythology & Folklore'  else( 2 if x=='Nature' else( 3)))\n",
    "#Converting our Given types into integers"
   ]
  },
  {
   "cell_type": "code",
   "execution_count": 536,
   "metadata": {},
   "outputs": [
    {
     "data": {
      "image/png": "[encoded data removed]",
      "text/plain": [
       "<matplotlib.figure.Figure at 0xe3b7031f28>"
      ]
     },
     "metadata": {},
     "output_type": "display_data"
    }
   ],
   "source": [
    "labels = 'Love', 'Mythology & Folklore', 'Nature'\n",
    "sizes = [326, 59, 188]\n",
    " \n",
    "\n",
    "fig1, ax1 = plt.subplots(figsize=(10,10))\n",
    "ax1.pie(sizes, labels=labels, autopct='%1.1f%%',\n",
    "        shadow=True, startangle=90)\n",
    "ax1.axis('equal')  # Equal aspect ratio ensures that pie is drawn as a circle.\n",
    "\n",
    "plt.show()"
   ]
  },
  {
   "cell_type": "code",
   "execution_count": 537,
   "metadata": {
    "collapsed": true
   },
   "outputs": [],
   "source": [
    "df['age2'] = df.age.apply(lambda x: 1 if x =='Renaissance' else(2)) #Converting our ages into integers"
   ]
  },
  {
   "cell_type": "code",
   "execution_count": 538,
   "metadata": {
    "collapsed": true
   },
   "outputs": [],
   "source": [
    "def removePunctuation(x):\n",
    "    x = x.lower()\n",
    "    x = re.sub(r'[^\\x00-\\x7f]',r' ',x)\n",
    "    x = x.replace('\\r','')\n",
    "    x = x.replace('\\n','')\n",
    "    x = x.replace('  ','')\n",
    "    x = x.replace('\\'','')\n",
    "    return re.sub(\"[\"+string.punctuation+\"]\", \" \", x)"
   ]
  },
  {
   "cell_type": "code",
   "execution_count": 539,
   "metadata": {
    "scrolled": true
   },
   "outputs": [
    {
     "data": {
      "text/plain": [
       "0      let the bird of loudest layon the sole arabian...\n",
       "1      sir charles into my chamber coming in when i w...\n",
       "2      our vice runs beyond all that old men saw and ...\n",
       "3      lo i the man  whose muse whilome did maske as ...\n",
       "4      long have i longd to see my love againe still ...\n",
       "5      cherry lipt adonis in his snowie shape might n...\n",
       "6      praisd be dianas fair and harmless light prais...\n",
       "7      when i was fair and young  then favor graced m...\n",
       "8      when by thy scorn  o murdress  i am dead and t...\n",
       "9      pla ce bo who is there  who di le xi dame marg...\n",
       "10     ye learned sisters which have oftentimesbeene ...\n",
       "11     on hellespont  guilty of true loves blood in v...\n",
       "12     by that he ended had his ghostly sermon the fo...\n",
       "13     calm was the day  and through the trembling ai...\n",
       "14     thenot hobbinolltell me good hobbinoll  what g...\n",
       "15     pierce   cuddiecuddie  for shame hold up thy h...\n",
       "16     go and catch a falling star get with child a m...\n",
       "17     orpheus with his lute made trees  and the moun...\n",
       "18     what is your substance  whereof are you made t...\n",
       "19     why didst thou promise such a beauteous day an...\n",
       "20     the welcome sun from sea freake is returned an...\n",
       "21     i met a courtier riding on the plain well moun...\n",
       "22     walking the fields a wantcatcher i spied to hi...\n",
       "23     fishing  if i a fisher may protest of pleasure...\n",
       "24     come darkest night  becoming sorrow best light...\n",
       "25     januarie  gloga prima  argvment in this fyrst ...\n",
       "26     where the bee sucks  there suck i in a cowslip...\n",
       "27     tis true  tis day  what though it be o wilt th...\n",
       "28     as i in hoary winters night stood shivering in...\n",
       "29     care for thy soul as thing of greatest price m...\n",
       "                             ...                        \n",
       "543    when the first dark had fallen around themand ...\n",
       "544    my love looks like a girl to night but she is ...\n",
       "545    the jester walked in the garden the garden had...\n",
       "546    what large  dark hands are those at the window...\n",
       "547    supper comes at five oclock at six  the evenin...\n",
       "548    go  dumb born book tell her that sang me once ...\n",
       "549    they came to tell your faults to me they named...\n",
       "550    i never knew the earth had so much goldthe fie...\n",
       "551    when she rises in the morningi linger to watch...\n",
       "552    louis untermeyer  infidelity from the new poet...\n",
       "553    version 1  1921 yours is the shame and sorrow ...\n",
       "554    strephon kissed me in the spring robin in the ...\n",
       "555    let us go then  you and i when the evening is ...\n",
       "556    i went to the dances at chandlerville and play...\n",
       "557    seen my lady home las night jump back  honey  ...\n",
       "558    wen daihs chillun in de house dey keep on a gi...\n",
       "559    i saw her in a broadway car the woman i might ...\n",
       "560    ijust as my fingers on these keysmake music  s...\n",
       "561    iamong the smoke and fog of a december afterno...\n",
       "562    maurice  weep not  i am not here under this pi...\n",
       "563    i shall not go with painwhether you hold me  w...\n",
       "564    wintah  summah  snow er shine hits all de same...\n",
       "565    this youth too long has heard the breakof wate...\n",
       "566    making his advanceshe does not look at her  no...\n",
       "567    i thought he was dumb i said he was dumb yet i...\n",
       "568    with the man i love who loves me not i walked ...\n",
       "569    hart crane   voyages i  ii  iii  iv  v  vi  fr...\n",
       "570    when you are old and grey and full of sleep an...\n",
       "571    give me hunger o you gods that sit and givethe...\n",
       "572    potuia  potuiawhite grave goddess pity my sadn...\n",
       "Length: 573, dtype: object"
      ]
     },
     "execution_count": 539,
     "metadata": {},
     "output_type": "execute_result"
    }
   ],
   "source": [
    "poetry = pd.Series(removePunctuation(x) for x in df['content'])\n",
    "poetry"
   ]
  },
  {
   "cell_type": "code",
   "execution_count": 682,
   "metadata": {},
   "outputs": [],
   "source": [
    "stopwords = nltk.corpus.stopwords.words('english')\n",
    "newStopWords = [u'published', u'publisher', u'publishing', u'thy', u'thou', u'shall', u'like', u'thee', u'doth', u'did', u'let',\\\n",
    "                u'copyright', u'reprinted', u'oh',u'marc',u'simon',u'cummings',u'maybe',u'permission',u'poems',u'rights',u'books',u'harpercollins',u'edited',u'originally'\n",
    "               ,u'selected',u'publishers'] #unicode is used in nltk.corpus.stopwords \n",
    "stopwords.extend(newStopWords)  "
   ]
  },
  {
   "cell_type": "code",
   "execution_count": 683,
   "metadata": {},
   "outputs": [
    {
     "name": "stdout",
     "output_type": "stream",
     "text": [
      "['i', 'me', 'my', 'myself', 'we', 'our', 'ours', 'ourselves', 'you', \"you're\", \"you've\", \"you'll\", \"you'd\", 'your', 'yours', 'yourself', 'yourselves', 'he', 'him', 'his', 'himself', 'she', \"she's\", 'her', 'hers', 'herself', 'it', \"it's\", 'its', 'itself', 'they', 'them', 'their', 'theirs', 'themselves', 'what', 'which', 'who', 'whom', 'this', 'that', \"that'll\", 'these', 'those', 'am', 'is', 'are', 'was', 'were', 'be', 'been', 'being', 'have', 'has', 'had', 'having', 'do', 'does', 'did', 'doing', 'a', 'an', 'the', 'and', 'but', 'if', 'or', 'because', 'as', 'until', 'while', 'of', 'at', 'by', 'for', 'with', 'about', 'against', 'between', 'into', 'through', 'during', 'before', 'after', 'above', 'below', 'to', 'from', 'up', 'down', 'in', 'out', 'on', 'off', 'over', 'under', 'again', 'further', 'then', 'once', 'here', 'there', 'when', 'where', 'why', 'how', 'all', 'any', 'both', 'each', 'few', 'more', 'most', 'other', 'some', 'such', 'no', 'nor', 'not', 'only', 'own', 'same', 'so', 'than', 'too', 'very', 's', 't', 'can', 'will', 'just', 'don', \"don't\", 'should', \"should've\", 'now', 'd', 'll', 'm', 'o', 're', 've', 'y', 'ain', 'aren', \"aren't\", 'couldn', \"couldn't\", 'didn', \"didn't\", 'doesn', \"doesn't\", 'hadn', \"hadn't\", 'hasn', \"hasn't\", 'haven', \"haven't\", 'isn', \"isn't\", 'ma', 'mightn', \"mightn't\", 'mustn', \"mustn't\", 'needn', \"needn't\", 'shan', \"shan't\", 'shouldn', \"shouldn't\", 'wasn', \"wasn't\", 'weren', \"weren't\", 'won', \"won't\", 'wouldn', \"wouldn't\", 'published', 'publisher', 'publishing', 'thy', 'thou', 'shall', 'like', 'thee', 'doth', 'did', 'let', 'copyright', 'reprinted', 'oh', 'marc', 'simon', 'cummings', 'maybe', 'permission', 'poems', 'rights', 'books', 'harpercollins', 'edited', 'originally', 'selected', 'publishers']\n"
     ]
    }
   ],
   "source": [
    "print (stopwords)"
   ]
  },
  {
   "cell_type": "code",
   "execution_count": 684,
   "metadata": {},
   "outputs": [],
   "source": [
    "#df['author'].apply(lambda x: x.split())\n",
    "authors =set()\n",
    "for i in df['author']: \n",
    "    #print(i.split())\n",
    "    for j in i.split():\n",
    "        authors.add(j.lower())"
   ]
  },
  {
   "cell_type": "code",
   "execution_count": 573,
   "metadata": {},
   "outputs": [
    {
     "name": "stdout",
     "output_type": "stream",
     "text": [
      "{'battista', 'skelton', 'chapman', 'gertrude', 'paul', 'stephen', 'elinor', 'archibald', 'cavendish', 'robert', 'dyer', 'wallace', 'guarini', 'cummings', 'nashe', 'fearing', 'madox', 'ivor', 'lee', 'heywood', 'lady', 'edward', 'dunbar', 'moore', 'aldington', 'slessor', 'surrey', 'george', 'en', 'mary', 'michael', 'edith', 'hart', 'baron', 'e.', 'margaret', 'john', 'pound', 'eliot', 'wroth', 'richard', 'sj', 'stevens', 'stein', 'kenneth', 'fletcher', 'gurney', 'ford', 'of', 'southwell,', 'samuel', 'macleish', 'joyce', 'second', 'bastard', 'bunting', 'henry', 'cowley', 'whitney', 'teasdale', 'd.', 'jonson', 'newcastle', 'gibbons', 'hugh', 'katherine', 'lord', 'daniel', 'spenser', 'h.', 'james', 'thomas,', 'marlowe', 'elizabeth', 'apollinaire', 'wyatt', 'carl', 'crane', 'greenberg', 'anania', 'campion', 'sitwell', 'england', 'pickthall', 'marianne', 'asil', 'loy', 'marjorie', 'howard,', 'isabella', 'spender', 'sidney', 'masters', 'thomas', 'untermeyer', 'gascoigne', 'giovanni', 'william', 'barnfield', 'donne', 'ezra', 'shakespeare', 'louise', 'laurence', 'earl', 'sandburg', 'harrowden', 'lawrence', 'sara', 'mansfield', 'louis', 'vaux', 'bogan', 'ralegh', 'yeats', 'guillaume', 'butler', 'santayana', 'sir', 'i', 'viii,', 'king', 'aiken', 'duchess', 'edmund', 's.', 'macdiarmid', 'lodge', 'wylie', 'walter', 'byrd', 'edgar', 't.', 'christopher', 'mina', 'conrad', 'orlando', 'malcolm', 'philip', 'queen'}\n"
     ]
    }
   ],
   "source": [
    "print (authors)"
   ]
  },
  {
   "cell_type": "code",
   "execution_count": 685,
   "metadata": {},
   "outputs": [],
   "source": [
    "stops = set(stopwords)\n",
    "def removeStopwords(X):\n",
    "    filtered_words = [word for word in X.lower().split() if word not in stops and word not in newStopWords and word not in authors and word.isalpha()] \n",
    "    return \" \".join(filtered_words)"
   ]
  },
  {
   "cell_type": "code",
   "execution_count": 686,
   "metadata": {
    "collapsed": true
   },
   "outputs": [],
   "source": [
    "poetry = pd.Series(removeStopwords(X) for X in df['content'])"
   ]
  },
  {
   "cell_type": "markdown",
   "metadata": {},
   "source": [
    "We have cleaned our data seperating it by time period, type, and by removing punctuation and stop words. From this we can move on to some unsupervised learning. "
   ]
  },
  {
   "cell_type": "markdown",
   "metadata": {},
   "source": [
    "## Separating And Training Our Data"
   ]
  },
  {
   "cell_type": "code",
   "execution_count": 687,
   "metadata": {
    "collapsed": true
   },
   "outputs": [],
   "source": [
    "X_train, X_test = train_test_split(poetry, test_size=0.4, random_state=0)"
   ]
  },
  {
   "cell_type": "code",
   "execution_count": 688,
   "metadata": {
    "collapsed": true
   },
   "outputs": [],
   "source": [
    "y_train, y_test = train_test_split(df['type2'], test_size=0.4, random_state=0)"
   ]
  },
  {
   "cell_type": "code",
   "execution_count": 634,
   "metadata": {
    "collapsed": true
   },
   "outputs": [],
   "source": [
    "from sklearn.feature_extraction.text import TfidfVectorizer"
   ]
  },
  {
   "cell_type": "code",
   "execution_count": 689,
   "metadata": {
    "collapsed": true
   },
   "outputs": [],
   "source": [
    "tfidf =TfidfVectorizer(max_df=0.5, \n",
    "                             min_df=2, \n",
    "                             stop_words='english', \n",
    "                             lowercase=True, \n",
    "                             use_idf=True,\n",
    "                             norm=u'l2', \n",
    "                             smooth_idf=True \n",
    "                            )"
   ]
  },
  {
   "cell_type": "code",
   "execution_count": 690,
   "metadata": {
    "collapsed": true
   },
   "outputs": [],
   "source": [
    "tfidf= tfidf.fit(poetry) \n"
   ]
  },
  {
   "cell_type": "code",
   "execution_count": 691,
   "metadata": {},
   "outputs": [
    {
     "name": "stdout",
     "output_type": "stream",
     "text": [
      "Number of features: 4085\n"
     ]
    }
   ],
   "source": [
    "X = tfidf.transform(poetry)\n",
    "print(\"Number of features: %d\" % X.get_shape()[1])"
   ]
  },
  {
   "cell_type": "code",
   "execution_count": 692,
   "metadata": {
    "collapsed": true
   },
   "outputs": [],
   "source": [
    "X_train_tfidf, X_test_tfidf= train_test_split(X, test_size=0.4, random_state=0)"
   ]
  },
  {
   "cell_type": "code",
   "execution_count": 693,
   "metadata": {
    "collapsed": true
   },
   "outputs": [],
   "source": [
    "X = X.toarray()"
   ]
  },
  {
   "cell_type": "code",
   "execution_count": 694,
   "metadata": {
    "collapsed": true
   },
   "outputs": [],
   "source": [
    "X_train_tfidf_csr = X_train_tfidf.tocsr()"
   ]
  },
  {
   "cell_type": "code",
   "execution_count": 798,
   "metadata": {},
   "outputs": [
    {
     "data": {
      "text/plain": [
       "<343x4085 sparse matrix of type '<class 'numpy.float64'>'\n",
       "\twith 13131 stored elements in Compressed Sparse Row format>"
      ]
     },
     "execution_count": 798,
     "metadata": {},
     "output_type": "execute_result"
    }
   ],
   "source": [
    "X_train_tfidf_csr"
   ]
  },
  {
   "cell_type": "code",
   "execution_count": 695,
   "metadata": {
    "collapsed": true
   },
   "outputs": [],
   "source": [
    "y = df['type']"
   ]
  },
  {
   "cell_type": "code",
   "execution_count": 696,
   "metadata": {},
   "outputs": [
    {
     "data": {
      "text/plain": [
       "343"
      ]
     },
     "execution_count": 696,
     "metadata": {},
     "output_type": "execute_result"
    }
   ],
   "source": [
    "n = X_train_tfidf_csr.shape[0]\n",
    "n"
   ]
  },
  {
   "cell_type": "code",
   "execution_count": 697,
   "metadata": {},
   "outputs": [],
   "source": [
    "terms = tfidf.get_feature_names()"
   ]
  },
  {
   "cell_type": "code",
   "execution_count": 698,
   "metadata": {},
   "outputs": [
    {
     "name": "stdout",
     "output_type": "stream",
     "text": [
      "Original sentence: adonis snowie might compare pure ivorie whose faire front poets pen may whose roseate red excels crimson delicate soft rarely framd tintrap poore gazine lillie carnation lovely tincture apollos lips ripe strawberries nectar mouth tongue muses make teeth pure pearle blushing correll body slow quicke\n",
      "Tf_idf vector: {'barren': 0.28375020193876971, 'best': 0.18636491358578011, 'cutting': 0.27313781973542567, 'enjoy': 0.50157026375070657, 'hath': 0.13260659186435986, 'jove': 0.24518354229728131, 'kind': 0.21221847223386495, 'love': 0.19928304360188689, 'plant': 0.29743194218144192, 'sickness': 0.28375020193876971, 'sighing': 0.25713569036709671, 'tempest': 0.28375020193876971, 'torment': 0.28375020193876971}\n"
     ]
    }
   ],
   "source": [
    "tfidf_bypara = [{} for _ in range(0,n)]\n",
    "for i, j in zip(*X_train_tfidf_csr.nonzero()):\n",
    "    tfidf_bypara[i][terms[j]] = X_train_tfidf_csr[i, j]\n",
    "print('Original sentence:', X_train[5])\n",
    "print('Tf_idf vector:', tfidf_bypara[5])"
   ]
  },
  {
   "cell_type": "markdown",
   "metadata": {},
   "source": [
    "## Unsupervised Learning"
   ]
  },
  {
   "cell_type": "code",
   "execution_count": 83,
   "metadata": {
    "collapsed": true
   },
   "outputs": [],
   "source": [
    "from sklearn.decomposition import TruncatedSVD\n",
    "from sklearn.pipeline import make_pipeline\n",
    "from sklearn.preprocessing import Normalizer"
   ]
  },
  {
   "cell_type": "code",
   "execution_count": 699,
   "metadata": {
    "collapsed": true
   },
   "outputs": [],
   "source": [
    "svd= TruncatedSVD(590)"
   ]
  },
  {
   "cell_type": "code",
   "execution_count": 700,
   "metadata": {
    "collapsed": true
   },
   "outputs": [],
   "source": [
    "lsa = make_pipeline(svd, Normalizer(copy=False))"
   ]
  },
  {
   "cell_type": "code",
   "execution_count": 701,
   "metadata": {
    "collapsed": true
   },
   "outputs": [],
   "source": [
    "X_train_lsa = lsa.fit_transform(X_train_tfidf)"
   ]
  },
  {
   "cell_type": "code",
   "execution_count": 702,
   "metadata": {},
   "outputs": [
    {
     "name": "stdout",
     "output_type": "stream",
     "text": [
      "Percent variance captured by all components: 100.0\n"
     ]
    }
   ],
   "source": [
    "variance_explained=svd.explained_variance_ratio_\n",
    "total_variance = variance_explained.sum()\n",
    "print(\"Percent variance captured by all components:\",total_variance*100)"
   ]
  },
  {
   "cell_type": "code",
   "execution_count": 703,
   "metadata": {},
   "outputs": [
    {
     "name": "stdout",
     "output_type": "stream",
     "text": [
      "Component 0:\n",
      "came holy land walsinghame met true love way know true love met many one went holy land neither white brown heavens fair none hath form divine earth one good angelic appear hath left alone sometimes lead loved whats cause leaves alone new way loved joy loved love likes falling fruit withered know love careless child forgets promise deaf list faith never desire dureless content trustless joy world despair lost womenkind indeed love word love abused many childish desires conceits true love durable fire mind ever never never never never                                                                                                                                                                                                                                                                                                                                                                                                                                                                                                                                                                                                                                                                                                                                                                                                                                                                                                                                                                                                                                                                                                                                                                                                                                                                                                                                                                                                                                                                                                                                                                                                                                                                                                                                                                                                                                                                                                                                                                                                                                                                                                                                                                                                                                                                                                                                                                                                                                                                                                                                                                                                                                                                                                                                                                                                                                                                                                                                                                                                                                                                                                                                                                                                                                                                                                                                                                                                                                                                                                                                                                                                                                                                                                                                                                                                                                                                                                                                                                                                                                                                                                                                                                                                                                                                                                                                                                                                                                                                                                                                                                                                                                                                                                                                                                                                                                                                                                                                                                                                                                                                                                                                                                                                                                                                                                                                                                                                                                                                                                                                                                                                                                                                                                                                                                                                                                                                                                                                                                                                                                                                                                                                                                                                                                                                                                                                                                                                                                                                                                                                                                                                                                                                                                                                                                                                                                                                                                                                                                                                                                                                                                                                                                                                                                                                                                                                                                                                                                                                                                                                                                                                                                                                                                                                                                                                                                                                                                                                                                                                                                                                                                                                                                                                                                                                                                                                                                                                                                                                                                                                                                                                                                                                                                                                                                                                                                                                                                                                                                                                                                                                                                                                                                                                                                                                                                                                                                                                                                                                                                                                                                                                                                                                                                                                                                                                                                                                                                                                                                                                                                                                                                                                                                                                                                                                                                                                                                                                                                                                                                                                                                                                                                                                                                                                                                                                                                                                                                                                                                                                                                                                                                                                                                                                                                                                                                                                                                                                                                                                                                                                                                0.369563\n",
      "guilty true view opposite two cities one sestos sestos hero hero young apollo courted dower burning could sit men gaze outside garments lining purple gilt stars wide sleeves venus naked glory strove please careless disdainful eyes proud kirtle whereon many made blood wretched lovers upon head ware myrtle whence veil ground veil artificial flowers whose workmanship man beast many would praise sweet smell odour breath forth honey bees sought beat lighted neck hung chains diamonds ware neither sun wind would burn parch warm cool took delight play upon buskins used blushing coral sparrows hollow pearl world would wonder sweet water oft handmaid would chirrup fairest cupid looking strooken one hero oftentimes bosom naked neck bare arms laid childish head upon still panting took nature thinking took wondrous beauty sign treasure since time hath half world amorous beautiful young tragedy divine musus dwelt since dwelt none succeeding times make greater dangling never unto colchos would youth greece hazard golden fair cynthia arms might grief makes moves body straight jove might sipt nectar even delicious meat neck surpast white could tell smooth breast white whose immortal fingers imprint heavenly path many curious dint runs along rude pen hardly blazon forth loves much less powerful suffice slack muse sings orient cheeks exceeding leapt water kiss despising died ere could enjoy love wild hippolytus leander beauty presence made rudest peasant vast uplandish country barbarous thracian favour swore maid looks men pleasant smiling speaking brow love banquet knew would art made amorous art though yet thine men wealthy sestos every sake goddess held kept solemn thither resorted many wandering guest meet none came lovers home great every breathing frighted melancholy eternal heaven another got guidance rich far hero stole away enchanted inveigling beauty watery star yawning dragons draw thirling car mount gloomy blazing light proudly flood hearts near even gaudy nymphs pursue wretched savage gallop amain steep mountains ran people forth gaze upon fury dreadful fellows slain put poor soldiers stand fear death presence await sentence scornful favours might see one another violent passions compile sharp faithful love never turn seeing great princes thinking cursed day went hero thorough tower fair church venus walls wherein proteus lively vine green one hand bacchus wine grapes crystal shining fair pavement town sestos might see gods sundry committing heady underneath radiant flower statue brazen jove slyly stealing dally idalian love europa bellowing tumbling rainbow mars heaving iron limping vulcan cyclops love kindling burn towns sylvanus weeping lovely boy cypress whose shade love midst silver altar sacrificing veiling eyelids modestly opened thence flew arrow golden thus leander evermore till fire blazed relenting gentle heart force virtue hath amorous lies power love us two long ere course wish one one especially affect two gold reason man behold love ever first                                                                                                                                                                                                                                                                                                                                                                                                                                                                                                                                                                                                                                                                                                                                                                                                                                                                                                                                                                                                                                                                                                                                                                                                                                                                                                                                                                                                                                                                                                                                                                                                                                                                                                                                                                                                                                                                                                                                                                                                                                                                                                                                                                                                                                                                                                                                                                                                                                                                                                                                                                                                                                                                                                                                                                                                                                                                                                                                                                                                                                                                                                                                                                                                                                                                                                                                                                                                                                                                                                                                                                                                                                                                                                                                                                                                                                                                                                                                                                                                                                                                                                                                                                                                                                                                                                                                                                                                                                                                                                                                                                                                                                                                                                                                                                                                                                                                                                                                                                                                                                                                                                                                                                                                                                                                                                                                                                                                                                                                                                                                                                                                                                                                                                                                                                                                                                                                                                                                                                                                                                                                                                                                                                                                                                                                                                                                                                                                                                                                                                                                                                                                                                                                                                                                                                                                                                                                                                                                                                                                                                                                                                                                                                                                                                                                                                                                                                                                                                                                                                                                                                                                                                                                                                                                                                                                                                                                                                                                                                                                                                                                                                                                                                                                                                                                                                                                                                                                                                                                                                                                                                                                                                                                                                                                                                                                                                                                                                                                                                                             0.369345\n",
      "guilty true view opposite two cities one sestos sestos hero hero young apollo courted dower burning could sit men gaze outside garments lining purple gilt stars wide sleeves venus naked glory strove please careless disdainful eyes proud kirtle whereon many made blood wretched lovers upon head ware myrtle whence veil ground veil artificial flowers whose workmanship man beast many would praise sweet smell odour breath forth honey bees sought beat lighted neck hung chains diamonds ware neither sun wind would burn parch warm cool took delight play upon buskins used blushing coral sparrows hollow pearl world would wonder sweet water oft handmaid would chirrup fairest cupid looking strooken one hero oftentimes bosom naked neck bare arms laid childish head upon still panting took nature thinking took wondrous beauty sign treasure since time hath half world amorous beautiful young tragedy divine musus dwelt since dwelt none succeeding times make greater dangling never unto colchos would youth greece hazard golden fair cynthia arms might grief makes moves body straight jove might sipt nectar even delicious meat neck surpast white could tell smooth breast white whose immortal fingers imprint heavenly path many curious dint runs along rude pen hardly blazon forth loves much less powerful suffice slack muse sings orient cheeks exceeding leapt water kiss despising died ere could enjoy love wild hippolytus leander beauty presence made rudest peasant vast uplandish country barbarous thracian favour swore maid looks men pleasant smiling speaking brow love banquet knew would art made amorous art though yet thine men wealthy sestos every sake goddess held kept solemn thither resorted many wandering guest meet none came lovers home great every breathing frighted melancholy eternal heaven another got guidance rich far hero stole away enchanted inveigling beauty watery star yawning dragons draw thirling car mount gloomy blazing light proudly flood hearts near even gaudy nymphs pursue wretched savage gallop amain steep mountains ran people forth gaze upon fury dreadful fellows slain put poor soldiers stand fear death presence await sentence scornful favours might see one another violent passions compile sharp faithful love never turn seeing great princes thinking cursed day went hero thorough tower fair church venus walls wherein proteus lively vine green one hand bacchus wine grapes crystal shining fair pavement town sestos might see gods sundry committing heady underneath radiant flower statue brazen jove slyly stealing dally idalian love europa bellowing tumbling rainbow mars heaving iron limping vulcan cyclops love kindling burn towns sylvanus weeping lovely boy cypress whose shade love midst silver altar sacrificing veiling eyelids modestly opened thence flew arrow golden thus leander evermore till fire blazed relenting gentle heart force virtue hath amorous lies power love us two long ere course wish one one especially affect two gold reason man behold love ever first                                                                                                                                                                                                                                                                                                                                                                                                                                                                                                                                                                                                                                                                                                                                                                                                                                                                                                                                                                                                                                                                                                                                                                                                                                                                                                                                                                                                                                                                                                                                                                                                                                                                                                                                                                                                                                                                                                                                                                                                                                                                                                                                                                                                                                                                                                                                                                                                                                                                                                                                                                                                                                                                                                                                                                                                                                                                                                                                                                                                                                                                                                                                                                                                                                                                                                                                                                                                                                                                                                                                                                                                                                                                                                                                                                                                                                                                                                                                                                                                                                                                                                                                                                                                                                                                                                                                                                                                                                                                                                                                                                                                                                                                                                                                                                                                                                                                                                                                                                                                                                                                                                                                                                                                                                                                                                                                                                                                                                                                                                                                                                                                                                                                                                                                                                                                                                                                                                                                                                                                                                                                                                                                                                                                                                                                                                                                                                                                                                                                                                                                                                                                                                                                                                                                                                                                                                                                                                                                                                                                                                                                                                                                                                                                                                                                                                                                                                                                                                                                                                                                                                                                                                                                                                                                                                                                                                                                                                                                                                                                                                                                                                                                                                                                                                                                                                                                                                                                                                                                                                                                                                                                                                                                                                                                                                                                                                                                                                                                                                                             0.369345\n",
      "lo whose muse whilome time taught lowly shepheards enforst far unfitter trumpets sterne chaunge mine oaten sing knights ladies gentle whose prayses slept silence sacred muse areeds blazon broad emongst learned fierce warres faithful loves moralize helpe holy virgin chiefe weaker novice performe lay forth thine everlasting scryne antique lye hidden faerie knights fairest noble briton prince long sought suffered much must rue undeserved helpe weake sharpen dull dreaded impe highest faire venus cruell dart good knight cunningly didst glorious fire kindled lay deadly heben bow mother milde come mine come bring triumphant loves gentle jollities murdrous spoiles bloudy rage goddesse heavenly mirrour grace majestie great greatest whose light phoebus lampe throughout world shed faire beames feeble raise thoughts humble thinke true glorious type argument mine afflicted dearest dred gentle knight pricking cladd mightie armes silver wherein old dints deepe wounds cruell markes many bloudy yet armes till time never angry steede chide foming much disdayning curbe full jolly knight faire one knightly giusts fierce encounters ii brest bloudie crosse deare remembrance dying whose sweete sake glorious badge dead living ever upon shield also soveraine helpe right faithfull true deede cheere seeme solemne yet nothing ever iii upon great adventure greatest gloriana greatest glorious queene faerie winne grace earthly things ever earne prove puissance battell brave upon new force upon dragon horrible iv lovely ladie rode faire upon lowly asse white yet much hide wimpled full blacke stole one inly heavie sat upon palfrey seemed heart hidden care line milke white lambe v pure life every vertuous descent royall lynage came ancient kings yore scepters stretcht east westerne world subjection till infernall feend foule uprore forwasted knight far vi behind farre away dwarfe lasie seemd ever wearied bearing bag needments thus day cloudes suddeine angry jove hideous storme raine poure lemans lap every wight shrowd faire couple eke shroud vii enforst seeke covert nigh shadie grove far away promist ayde tempest whose loftie trees yclad sommers spred heavens light perceable power within pathes alleies footing leading inward faire harbour entred viii foorth pleasure forward joying heare birdes sweete therein shrouded tempest seemd song scorne cruell much prayse trees straight sayling cedar proud poplar never builder sole forrests aspine good cypresse ix meed mightie conquerours poets firre weepeth willow worne forlorne eugh obedient benders birch sallow mirrhe sweete bleeding bitter warlike ash nothing fruitfull platane carver maple seeldom inward x led thus beguile untill blustring storme weening whence cannot find first wander fro wayes furthest end neerest makes wits many many turnings diverse doubt xi last resolving forward still till end finde path beaten seemd lead labyrinth tract hunted length brought hollow amid thickest champion stout eftsoones dismounted courser dwarfe needlesse spere xii well quoth ladie least suddaine mischiefe ye rash danger place unknowne breeds dreadfull oft fire without perill without therefore stroke knight till triall ah ladie shame revoke forward footing hidden vertue gives selfe darkenesse xiii yea perill place better wot though late wish backe returne foule yet wisedome whilest foot stay ere forced wandring errours monster god man therefore read fly fly fearefull place living xiv full fire greedy youthfull knight could ought forth unto darksome hole looked glistring armor made litle glooming much saw ugly monster halfe serpent horribly halfe womans shape full vile xv lay upon durtie huge long taile den yet knots many boughtes pointed mortall bred thousand yong dayly sucking upon poisonous eachone sundry yet ill soone uncouth light upon mouth suddain xvi dam den rushed hurling hideous taile cursed whose folds displaid stretcht forth length without lookt seeing one mayle armed sought backe turne light hated deadly ay wont desert darknesse plaine none might see xvii valiant elfe lept lyon fierce upon flying trenchand blade boldly kept turning forced therewith loudly gan turning speckled taile threatning angry nought mightie hand stroke head unto shoulder xviii much daunted sence yet kindling selfe gathered attonce beastly body raizd doubled forces high tho wrapping wrethed sterne lept fierce upon huge traine suddenly body hand foot stirre strove god helpe man wrapt errours endlesse xix sad see sore cride shew ye add faith unto strangle else sure strangle great gall grate griefe high knitting force got one hand wherewith grypt gorge great soone loose wicked bands xx therewith spewd filthy maw floud poyson horrible full great lumpes flesh gobbets stunck forst slacke grasping turne vomit full bookes papers loathly frogs eyes creeping sought way weedy filthy parbreake place defiled xxi old father nilus gins swell timely pride aegyptian fattie waves fertile slime overflow plaine lowly later spring gins huge heapes mudd wherein breed ten thousand kindes partly male partly female fruitfull ugly monstrous shapes elsewhere may man xxii sore annoyed welnigh choked deadly forces ne longer whose corage feend poured forth hellish sinke fruitfull cursed spawne serpents deformed blacke swarming legs encombred could hurt xxiii gentle shepheard sweete ruddy phoebus gins welke high flocke vewen markes byte hasty supper cloud combrous gnattes striving infixe feeble noyance clownish hands tender wings brusheth oft mar xxiv thus ill fearefull certaine perill stood halfe furious unto foe minde suddenly soone would strooke manly body full filthie sin raft hatefull head without streame cole black bloud forth gushed xxv scattred soone parent deare saw rudely falling groning full troublous gathred body weening wonted entrance found wide withstood flocked bleeding sucked dying mothers making death eke hurt xxvi detestable sight much see impes heaven devoure satisfide bloudy bellies swolne saw fulnesse bowels gushing well worthy end drunke needeth lenger labour foes slaine xxvii ladie seeing farre approcht hast greet faire borne happy see vanquisht foes well worthy wherein ye great glory wonne strength strong first many henceforth ever succeed xxviii mounted upon steede backward sought path beaten ne ever would still follow one unto last wood forward way god passed new adventure long way heard xxix length chaunst meet upon way aged long blacke weedes feete beard hoarie belt booke hanging sober sagely ground eyes lowly simple voyde malice way often knockt one xxx faire knight louting faire courteous asked know straunge abroad ah deare sonne silly old lives hidden bidding beades day tydings warre worldly trouble holy father sits things xxxi daunger hereby homebred evill ye desire straunge man tidings wasteth countrey farre chiefly well reward shew wicked wight dayes knighthood foule cursed creature lives long xxxii far hence wastfull wildernesse dwelling living wight may ever thorough great draweth toward well later fight ye forwearied wanting rest also want sunne measures heaven day night baite steedes ocean waves xxxiii sunne take timely new day new worke untroubled night say gives counsell right well knight ye advised aged way win wisely day therefore ye may take knight well godly father home xxxiv little lowly hermitage downe hard forests far resort pas travell little wyde holy chappell wherein hermite dewly wont say holy things morne thereby christall streame gently sacred fountaine welled forth xxxv arrived little house ne looke none rest things noblest mind best contentment faire discourse evening old man pleasing wordes well could file tongue smooth told saintes evermore strowd xxxvi drouping night thus creepeth sad humour loading eye messenger morpheus cast sweet slombring sleepe unto lodgings guestes drownd deadly sleepe study amiddes magick bookes artes sundry seekes mighty trouble sleepy xxxvii choosing wordes none thereof verses spelles bad awake blacke plutoes griesly cursed spake reprochfull shame highest life bold bad call name great prince darknesse dead cocytus styx put xxxviii forth cald deepe darknesse dred legions little flyes fluttring ever damned whereto service aide fray chose falsest fittest forge one gave message selfe staide worke xxxix making speedy way spersed world waters wide morpheus house hastily amid bowels earth full dawning day never dwelling tethys wet bed ever cynthia still steepe silver deaw whiles sad night mantle black xl whose double gates findeth locked one faire burnisht silver wakefull dogges farre lye watching banish care oft wont trouble gentle sprite passe unto morpheus drowned deepe drowsie fit nothing takes xli lulle slumber trickling streame high rocke tumbling downe raine upon mixt murmuring much sowne swarming cast peoples troublous still wont walled might carelesse quiet wrapt eternall silence farre xlii messenger approching wast wordes returnd sound nought mought rudely pusht whereat gan againe shooke forced one whose dryer braine tost troubled sights fancies mumbled would silence xliii sprite gan boldly threatned unto dreaded name whereat gan lifting lumpish blame halfe angry asked hither archimago stubborne sprites wisely bids send intent fit false delude sleepers xliv god calling forth straight way diverse dreame prison delivered downe lay heavie devoide carefull whose sences straight benumbed backe returning yvorie remounted light chearefull litle winges dreame bore hast unto left xlv charmes hidden made liquid ayre tender partes mens weaker sence could ravisht maker selfe wondrous nigh beguiled goodly white cast blacke seeme una xlvi ydle dreame unto elfin knight bad slept soundly void evill thought false shewes abuse sort schooled new creature borne without full makers usage sly taught imitate whose semblance carrie feigned xlvii thus well worke comming knight slomber one upon hardy head made dreame loves lustfull nigh manly melt bathed wanton blis wicked seemed false winged chast learne dame pleasures xlviii selfe beautie soveraigne faire venus seemde unto bed bring waking evermore chastest ay spring earthly daughter loose leman vile service eke graces seemed hymen dauncing freshest flora yvie girlond xlix great passion unwonted wonted feare ought started seeming mistrust secret hidden foe lo face blake stole hyding bayted halfe blushing offred gentle blandishment lovely virgin knight l cleane dismayd see uncouth halfe enraged shamelesse thought slaine fierce hasty heat tempring sufferance stayde gan himselfe advise prove tempt faigned wringing hands wemens pitteous tho stirre gentle noble tender li ah liege accuse hidden cruell mightie causes wrought heaven blind thus hoped love winne certaine yet thus perforce bids die yet rew wretched state hard avenging destinie hath made judge life death lii owne deare sake forst first leave fathers stopt swollen speach seemd againe weaker yeares fortune frayle worldly fly faith succour sure dye languor long dame hath ye thus frayes wont comfort liii love deare constraint lets wast wearie night secret anguish unpittied whiles carelesse sleepe drowned doubtfull words made redoubted knight suspect yet since fawning love foule disdainefull spight would deare dame sake unknowne griefe unto liv assure fell deare life deeme hold ne vaine feares procure needlesse cause rest yet seemd appease mournefull beguiled fed could chuse slyding softly turnd lv long lay musing much think gentle dame whose defence shed last dull wearinesse former fight yrockt sleepe irkesome troublous dreame gan freshly tosse ladies deare saw labour misformed spright backe returnd    0.356663\n",
      "came holy land met true love way know true met many went holy neither heavens none hath form divine one good angelic appear hath left sometimes lead loved whats cause leaves new way loved joy lovd love likes falling fruit withered know love careless forgets promise deaf faith never desire dureless trustless world lost womenkind indeed word love many childish desires conceits true love durable mind ever never never never never                                                                                                                                                                                                                                                                                                                                                                                                                                                                                                                                                                                                                                                                                                                                                                                                                                                                                                                                                                                                                                                                                                                                                                                                                                                                                                                                                                                                                                                                                                                                                                                                                                                                                                                                                                                                                                                                                                                                                                                                                                                                                                                                                                                                                                                                                                                                                                                                                                                                                                                                                                                                                                                                                                                                                                                                                                                                                                                                                                                                                                                                                                                                                                                                                                                                                                                                                                                                                                                                                                                                                                                                                                                                                                                                                                                                                                                                                                                                                                                                                                                                                                                                                                                                                                                                                                                                                                                                                                                                                                                                                                                                                                                                                                                                                                                                                                                                                                                                                                                                                                                                                                                                                                                                                                                                                                                                                                                                                                                                                                                                                                                                                                                                                                                                                                                                                                                                                                                                                                                                                                                                                                                                                                                                                                                                                                                                                                                                                                                                                                                                                                                                                                                                                                                                                                                                                                                                                                                                                                                                                                                                                                                                                                                                                                                                                                                                                                                                                                                                                                                                                                                                                                                                                                                                                                                                                                                                                                                                                                                                                                                                                                                                                                                                                                                                                                                                                                                                                                                                                                                                                                                                                                                                                                                                                                                                                                                                                                                                                                                                                                                                                                                                                                                                                                                                                                                                                                                                                                                                                                                                                                                                                                                                                                                                                                                                                                                                                                                                                                                                                                                                                                                                                                                                                                                                                                                                                                                                                                                                                                                                                                                                                                                                                                                                                                                                                                                                                                                                                                                                                                                                                                                                                                                                                                                                                                                                                                                                                                                                                                                                                                                                                                                                              0.342202\n",
      "scarce believe love pure thought endure methinks lied swore love spring make cures sorrow mixed stuffs paining soul sun working vigor loves use mistress elemented love sometimes would sometimes yet love spring stars sun gentle love blossoms loves awakened root bud water stirred circles produced love additions many one heaven concentric unto though spring add love new princes time action get new remit winter abate springs                                                                                                                                                                                                                                                                                                                                                                                                                                                                                                                                                                                                                                                                                                                                                                                                                                                                                                                                                                                                                                                                                                                                                                                                                                                                                                                                                                                                                                                                                                                                                                                                                                                                                                                                                                                                                                                                                                                                                                                                                                                                                                                                                                                                                                                                                                                                                                                                                                                                                                                                                                                                                                                                                                                                                                                                                                                                                                                                                                                                                                                                                                                                                                                                                                                                                                                                                                                                                                                                                                                                                                                                                                                                                                                                                                                                                                                                                                                                                                                                                                                                                                                                                                                                                                                                                                                                                                                                                                                                                                                                                                                                                                                                                                                                                                                                                                                                                                                                                                                                                                                                                                                                                                                                                                                                                                                                                                                                                                                                                                                                                                                                                                                                                                                                                                                                                                                                                                                                                                                                                                                                                                                                                                                                                                                                                                                                                                                                                                                                                                                                                                                                                                                                                                                                                                                                                                                                                                                                                                                                                                                                                                                                                                                                                                                                                                                                                                                                                                                                                                                                                                                                                                                                                                                                                                                                                                                                                                                                                                                                                                                                                                                                                                                                                                                                                                                                                                                                                                                                                                                                                                                                                                                                                                                                                                                                                                                                                                                                                                                                                                                                                                                                                                                                                                                                                                                                                                                                                                                                                                                                                                                                                                                                                                                                                                                                                                                                                                                                                                                                                                                                                                                                                                                                                                                                                                                                                                                                                                                                                                                                                                                                                                                                                                                                                                                                                                                                                                                                                                                                                                                                                                                                                                                                                                                                                                                                                                                                                                                                                                                                                                                                                                                                                   0.339866\n",
      "sew sang sometime song field livelood would needs go seek townish thought endured much stormy blasts cave sore souse furrows swimmed must lie cold wet sorry worse bare meat remain comfort house sometime barley sometime laboured hard day night harvest time whilst might go store stroyed well undone fain take instead food hunger quod living hence dwelleth cold storm lieth warm dry bed dirt defile tender laboureth richly feedeth meat needs crave cater spareth feedeth boiled bacon meet hath thereof neither charge liquor grape glad heart till belly journey maketh forth trusting wealth sister part might keep live life door come foot anon scrapeth full fear durst well scarce every noise wretch last asked softly well quod quod towny speakest hand took fair quod feasted joy tell fare drank wine purpose cheered amids joy befell sorry well stranger bought full dear fare look stool spied two steaming eyes round head sharp france never mouse unwise beast yet nature taught guise know foe dread towny mouse know whither wonders sore feard home wished heaven eke chance threshold silly foot ere might recover traitor cat caught made forgotten poor surety rest seeming wealth wherein thought men seek best find error sight blind anon way goeth guide seeking quiet wretched gold may grant ye although head hooped sergeant cannot repulse care follow kind life hath live delight even lust shalt lust irketh straight small thing may mind none ye mad seek grapes upon brambles hath wit bad set hay conies ne ye set yet thing desire ye travail make plain thine knotted hope see bare vice hath ever thyself content use well seek thyself find thing hast sought long shalt feel sitting ye list continue present pass gape time deep travail wretched fools nought else great god high none pain pray rage lead looking virtue may even goodly fair whilst clasp lusts arms grant good mayst might fret inward losing                                                                                                                                                                                                                                                                                                                                                                                                                                                                                                                                                                                                                                                                                                                                                                                                                                                                                                                                                                                                                                                                                                                                                                                                                                                                                                                                                                                                                                                                                                                                                                                                                                                                                                                                                                                                                                                                                                                                                                                                                                                                                                                                                                                                                                                                                                                                                                                                                                                                                                                                                                                                                                                                                                                                                                                                                                                                                                                                                                                                                                                                                                                                                                                                                                                                                                                                                                                                                                                                                                                                                                                                                                                                                                                                                                                                                                                                                                                                                                                                                                                                                                                                                                                                                                                                                                                                                                                                                                                                                                                                                                                                                                                                                                                                                                                                                                                                                                                                                                                                                                                                                                                                                                                                                                                                                                                                                                                                                                                                                                                                                                                                                                                                                                                                                                                                                                                                                                                                                                                                                                                                                                                                                                                                                                                                                                                                                                                                                                                                                                                                                                                                                                                                                                                                                                                                                                                                                                                                                                                                                                                                                                                                                                                                                                                                                                                                                                                                                                                                                                                                                                                                                                                                                                                                                                                                                                                                                                                                                                                                                                                                                                                                                                                                                                                                                                                                                                                                                                                                                                                                                                                                                                                                                                                                                                                                                                                                                                                                                                                                                                                                                                                                                                                                                                                                                                                                                                                                                                                                                                                                                                                                                                                                                                                                                                                                                                                                                                                                                                                                                                                                                                                                                    0.327614\n",
      "yet never cannot breathe one intreat one tear purchase lettersi yet due bargain made gift love others never gavest hadst new love created stocks outbid new love may beget new love yet gift whatever grow yet would hath since love every day admit new shouldst new rewards canst every day give canst give never gavest riddles though heart stays losing savest way changing join one                                                                                                                                                                                                                                                                                                                                                                                                                                                                                                                                                                                                                                                                                                                                                                                                                                                                                                                                                                                                                                                                                                                                                                                                                                                                                                                                                                                                                                                                                                                                                                                                                                                                                                                                                                                                                                                                                                                                                                                                                                                                                                                                                                                                                                                                                                                                                                                                                                                                                                                                                                                                                                                                                                                                                                                                                                                                                                                                                                                                                                                                                                                                                                                                                                                                                                                                                                                                                                                                                                                                                                                                                                                                                                                                                                                                                                                                                                                                                                                                                                                                                                                                                                                                                                                                                                                                                                                                                                                                                                                                                                                                                                                                                                                                                                                                                                                                                                                                                                                                                                                                                                                                                                                                                                                                                                                                                                                                                                                                                                                                                                                                                                                                                                                                                                                                                                                                                                                                                                                                                                                                                                                                                                                                                                                                                                                                                                                                                                                                                                                                                                                                                                                                                                                                                                                                                                                                                                                                                                                                                                                                                                                                                                                                                                                                                                                                                                                                                                                                                                                                                                                                                                                                                                                                                                                                                                                                                                                                                                                                                                                                                                                                                                                                                                                                                                                                                                                                                                                                                                                                                                                                                                                                                                                                                                                                                                                                                                                                                                                                                                                                                                                                                                                                                                                                                                                                                                                                                                                                                                                                                                                                                                                                                                                                                                                                                                                                                                                                                                                                                                                                                                                                                                                                                                                                                                                                                                                                                                                                                                                                                                                                                                                                                                                                                                                                                                                                                                                                                                                                                                                                                                                                                                                                                                                                                                                                                                                                                                                                                                                                                                                                                                                                                                                                  0.302546\n",
      "spring summer beauty hath grace seen one autumnal young beauties force yet cannot shame affection takes first years golden gold oft tried ever torrid inflaming tolerable tropic fair asks heat comes fever wishes call graves else yet lies love dead sit till must dig build dwells though sojourn yet standing house still evening noon yet unto hearers may youth wine enrages comes seasonabliest taste appetite things strange lydian platan none large else nature bless youth love things long age thing fifty years transitory soon age must loveliest latest name winter whose lank whose eyes seek light whose mouths rather worn whose every tooth several place vex souls name living unto antique hate yet rather stay tombs wear since natural lation may still love journey panting growing ebb homeward                                                                                                                                                                                                                                                                                                                                                                                                                                                                                                                                                                                                                                                                                                                                                                                                                                                                                                                                                                                                                                                                                                                                                                                                                                                                                                                                                                                                                                                                                                                                                                                                                                                                                                                                                                                                                                                                                                                                                                                                                                                                                                                                                                                                                                                                                                                                                                                                                                                                                                                                                                                                                                                                                                                                                                                                                                                                                                                                                                                                                                                                                                                                                                                                                                                                                                                                                                                                                                                                                                                                                                                                                                                                                                                                                                                                                                                                                                                                                                                                                                                                                                                                                                                                                                                                                                                                                                                                                                                                                                                                                                                                                                                                                                                                                                                                                                                                                                                                                                                                                                                                                                                                                                                                                                                                                                                                                                                                                                                                                                                                                                                                                                                                                                                                                                                                                                                                                                                                                                                                                                                                                                                                                                                                                                                                                                                                                                                                                                                                                                                                                                                                                                                                                                                                                                                                                                                                                                                                                                                                                                                                                                                                                                                                                                                                                                                                                                                                                                                                                                                                                                                                                                                                                                                                                                                                                                                                                                                                                                                                                                                                                                                                                                                                                                                                                                                                                                                                                                                                                                                                                                                                                                                                                                                                                                                                                                                                                                                                                                                                                                                                                                                                                                                                                                                                                                                                                                                                                                                                                                                                                                                                                                                                                                                                                                                                                                                                                                                                                                                                                                                                                                                                                                                                                                                                                                                                                                                                                                                                                                                                                                                                                                                                                                                                                                                                                                                                                                                                                                                                                                                                                                                                                                                                                                                                                                   0.286568\n",
      "spring summer beauty hath grace seen one autumnal young beauties force yet cannot shame affection takes first years golden gold oft tried ever torrid inflaming tolerable tropic fair asks heat comes fever wishes call graves else yet lies love dead sit till must dig build dwells though sojourn yet standing house still evening noon yet unto hearers may youth wine enrages comes seasonabliest taste appetite things strange lydian platan none large else nature bless youth love things long age thing fifty years transitory soon age must loveliest latest name winter whose lank whose eyes seek light whose mouths rather worn whose every tooth several place vex souls name living unto antique hate yet rather stay tombs wear since natural lation may still love journey panting growing ebb homeward                                                                                                                                                                                                                                                                                                                                                                                                                                                                                                                                                                                                                                                                                                                                                                                                                                                                                                                                                                                                                                                                                                                                                                                                                                                                                                                                                                                                                                                                                                                                                                                                                                                                                                                                                                                                                                                                                                                                                                                                                                                                                                                                                                                                                                                                                                                                                                                                                                                                                                                                                                                                                                                                                                                                                                                                                                                                                                                                                                                                                                                                                                                                                                                                                                                                                                                                                                                                                                                                                                                                                                                                                                                                                                                                                                                                                                                                                                                                                                                                                                                                                                                                                                                                                                                                                                                                                                                                                                                                                                                                                                                                                                                                                                                                                                                                                                                                                                                                                                                                                                                                                                                                                                                                                                                                                                                                                                                                                                                                                                                                                                                                                                                                                                                                                                                                                                                                                                                                                                                                                                                                                                                                                                                                                                                                                                                                                                                                                                                                                                                                                                                                                                                                                                                                                                                                                                                                                                                                                                                                                                                                                                                                                                                                                                                                                                                                                                                                                                                                                                                                                                                                                                                                                                                                                                                                                                                                                                                                                                                                                                                                                                                                                                                                                                                                                                                                                                                                                                                                                                                                                                                                                                                                                                                                                                                                                                                                                                                                                                                                                                                                                                                                                                                                                                                                                                                                                                                                                                                                                                                                                                                                                                                                                                                                                                                                                                                                                                                                                                                                                                                                                                                                                                                                                                                                                                                                                                                                                                                                                                                                                                                                                                                                                                                                                                                                                                                                                                                                                                                                                                                                                                                                                                                                                                                                                                   0.286568\n"
     ]
    },
    {
     "name": "stdout",
     "output_type": "stream",
     "text": [
      "Name: 0, dtype: float64\n",
      "Component 1:\n",
      "cantos new directions                                 0.833268\n",
      "cantos new directions                                 0.833268\n",
      "cantos new directions                                 0.833268\n",
      "cantos new directions                                 0.833268\n",
      "cantos new directions                                 0.833268\n",
      "eemis stane alan riach new directions                 0.755211\n",
      "stony limits alan riach new directions                0.755211\n",
      "sauchs reuch heuch hauch alan riach new directions    0.755211\n",
      "gairmscoile alan riach new directions                 0.656386\n",
      "excerpt raised beach alan riach new directions        0.597680\n",
      "Name: 1, dtype: float64\n",
      "Component 2:\n",
      "carib complete liveright used liveright               0.749019\n",
      "complete liveright used liveright                     0.749019\n",
      "complete liveright used liveright                     0.749019\n",
      "air complete liveright used                           0.738575\n",
      "stratagem used asphodel                               0.701912\n",
      "memorial day used asphodel                            0.640662\n",
      "hanging screen used asphodel                          0.580881\n",
      "finality poem used asphodel                           0.576329\n",
      "motet used asphodel                                   0.546286\n",
      "carry heart carry trustees complete used liveright    0.450223\n",
      "Name: 2, dtype: float64\n",
      "Component 3:\n",
      "definition frontiers collected estate houghton mifflin                                                                                            0.943830\n",
      "ars poetica collected estate houghton mifflin                                                                                                     0.943830\n",
      "lines prologue collected estate houghton mifflin                                                                                                  0.878148\n",
      "immortal autumn collected estate houghton mifflin                                                                                                 0.818284\n",
      "estate                                                                                                                                            0.560797\n",
      "wind renewed janet helga houghton mifflin harcourt                                                                                                0.557494\n",
      "epitaph romantic woman body estate                                                                                                                0.330870\n",
      "infidelity new anthology twentieth century verse harriet monroe granted arrangement estate norma anchin professional reprint granted expressed    0.314882\n",
      "truly great collected ed victor                                                                                                                   0.284890\n",
      "house twinkling moon baby precious always love notes alice toklas martins estate                                                                  0.264547\n",
      "Name: 3, dtype: float64\n",
      "Component 4:\n",
      "withouten many words sure ye ye leave bourds use wit show beck ye one burneth alway ye pity answer fair friends ye another man mine                                                                                                                                                                                                                                                                                                                                                                                                                                                                                                                                                                                                                                                                                                                                                                                                                                                                                                                                                                                                                                                                                                                                                                                                                                                                                                                                                                                                                                                                                                                                                                                                                                                                                                                                                                                                                                        0.758880\n",
      "ye plenty goodness ye rail praise port draff yet well borne ye full oft time coy full mine horse new furred put ye trust see proud ye ye may though angelic yet tongue adders full scorpion stinging ye good mistress ye prate pretty trust quite ere key meet every key common hangeth key need stand long wresting ye one thing ye hold tongue mistress farly wones key thames                                                                                                                                                                                                                                                                                                                                                                                                                                                                                                                                                                                                                                                                                                                                                                                                                                                                                                                                                                                                                                                                                                                                                                                                                                                                                                                                                                                                                                                                                                                                                                                           0.702156\n",
      "fair fellows well pleasant ye forsake fair might ye sometime liked lice away dead bodies lo proof light ye swear ye                                                                                                                                                                                                                                                                                                                                                                                                                                                                                                                                                                                                                                                                                                                                                                                                                                                                                                                                                                                                                                                                                                                                                                                                                                                                                                                                                                                                                                                                                                                                                                                                                                                                                                                                                                                                                                                        0.675747\n",
      "ye old mule think leave craft beauty without man setteth riding much travail train ye old mule false savour though deceive whoso taste well perceive lair savoureth somewhat kappurs ye old mule ye must serve market panniers since gray hairs powdered thing ye seek must enable purchase payment ye old                                                                                                                                                                                                                                                                                                                                                                                                                                                                                                                                                                                                                                                                                                                                                                                                                                                                                                                                                                                                                                                                                                                                                                                                                                                                                                                                                                                                                                                                                                                                                                                                                                                                 0.672017\n",
      "beshrew wanton clerks nice ye nothing christian jack mannerly margery milk ye pretty love whole ye play hackney go watch back christian jack mannerly margery milk ywis ye deal would ye frumple ye ye japed christian jack mannerly margery milk walk forth ye cost found best cheap flesh ever love hath wed else die christian breath mannerly margery milk christian jack mannerly margery milk                                                                                                                                                                                                                                                                                                                                                                                                                                                                                                                                                                                                                                                                                                                                                                                                                                                                                                                                                                                                                                                                                                                                                                                                                                                                                                                                                                                                                                                                                                                                                                        0.649709\n",
      "joy see drawen selfe unto bee ye doe unto spyder close awayt catch right selfe caught cunning snare deare thralled whose streight bands ye captived ye never may whole worke woven woodbynd flowers fragrant sweet prison time many deare delights bedecked thensforth eternall peace see betweene spyder gentle                                                                                                                                                                                                                                                                                                                                                                                                                                                                                                                                                                                                                                                                                                                                                                                                                                                                                                                                                                                                                                                                                                                                                                                                                                                                                                                                                                                                                                                                                                                                                                                                                                                           0.426209\n",
      "since ye please hear ye rejoice list lenger remain cursed cruel heart hath procurd careless mind mine unfeigned forceth faults much assured thine whereto speedless proof leave                                                                                                                                                                                                                                                                                                                                                                                                                                                                                                                                                                                                                                                                                                                                                                                                                                                                                                                                                                                                                                                                                                                                                                                                                                                                                                                                                                                                                                                                                                                                                                                                                                                                                                                                                                                            0.413544\n",
      "loathe youth thought time requires methinks lusts fancies tract time begins weave grey hairs upon age stealing steps hath clawed lusty life away leaps none muse delight hand pen reason denies youthly idle day day leave toys wrinkles furrows limping age youth must give harbinger see gasping breath bid provide pickaxe eke shrouding house clay made guest methinks hear clark knolls careful bids leave woeful ere nature keepers knit knot youth laugh clean forgot thus must youth give whose badge long yield wanton cup better may bared whose bald sign know stooping age away pull youthful years beauty band crooked cares hath shipped land whence first ye bide ye none ye clay cast ye waste                                                                                                                                                                                                                                                                                                                                                                                                                                                                                                                                                                                                                                                                                                                                                                                                                                                                                                                                                                                                                                                                                                                                                                                                                                                             0.324301\n",
      "joy full oft loving bless lucky mishap much mean love equal heavens much graced ye might invent heavenly whose verse could enchased glorious name golden since ye deignd goodly relent little little spent setting immortal praises whose lofty argument uplifting lift unto high                                                                                                                                                                                                                                                                                                                                                                                                                                                                                                                                                                                                                                                                                                                                                                                                                                                                                                                                                                                                                                                                                                                                                                                                                                                                                                                                                                                                                                                                                                                                                                                                                                                                                          0.312658\n",
      "sew sang sometime song field livelood would needs go seek townish thought endured much stormy blasts cave sore souse furrows swimmed must lie cold wet sorry worse bare meat remain comfort house sometime barley sometime laboured hard day night harvest time whilst might go store stroyed well undone fain take instead food hunger quod living hence dwelleth cold storm lieth warm dry bed dirt defile tender laboureth richly feedeth meat needs crave cater spareth feedeth boiled bacon meet hath thereof neither charge liquor grape glad heart till belly journey maketh forth trusting wealth sister part might keep live life door come foot anon scrapeth full fear durst well scarce every noise wretch last asked softly well quod quod towny speakest hand took fair quod feasted joy tell fare drank wine purpose cheered amids joy befell sorry well stranger bought full dear fare look stool spied two steaming eyes round head sharp france never mouse unwise beast yet nature taught guise know foe dread towny mouse know whither wonders sore feard home wished heaven eke chance threshold silly foot ere might recover traitor cat caught made forgotten poor surety rest seeming wealth wherein thought men seek best find error sight blind anon way goeth guide seeking quiet wretched gold may grant ye although head hooped sergeant cannot repulse care follow kind life hath live delight even lust shalt lust irketh straight small thing may mind none ye mad seek grapes upon brambles hath wit bad set hay conies ne ye set yet thing desire ye travail make plain thine knotted hope see bare vice hath ever thyself content use well seek thyself find thing hast sought long shalt feel sitting ye list continue present pass gape time deep travail wretched fools nought else great god high none pain pray rage lead looking virtue may even goodly fair whilst clasp lusts arms grant good mayst might fret inward losing    0.264543\n"
     ]
    },
    {
     "name": "stdout",
     "output_type": "stream",
     "text": [
      "Name: 4, dtype: float64\n"
     ]
    }
   ],
   "source": [
    "\n",
    "paras_by_component=pd.DataFrame(X_train_lsa,index=X_train)\n",
    "for i in range(5):\n",
    "    print('Component {}:'.format(i))\n",
    "    print(paras_by_component.loc[:,i].sort_values(ascending=False)[0:10])"
   ]
  },
  {
   "cell_type": "code",
   "execution_count": 676,
   "metadata": {},
   "outputs": [
    {
     "data": {
      "image/png": "[encoded data removed]",
      "text/plain": [
       "<matplotlib.figure.Figure at 0xe39ddfe978>"
      ]
     },
     "metadata": {},
     "output_type": "display_data"
    },
    {
     "name": "stdout",
     "output_type": "stream",
     "text": [
      "Key:\n",
      "0 words good indian allow small cutted spartans mean tender ears questions total demand phoenix left well think satisfies would know whether sit waited often pastime journey lips sweeten poor say well still say\n",
      "1 since coming holy choir saints made come tune instrument must think whilst physicians love grown lie flat may shown per fretum straits straits see though currents yield return west hurt west east flat maps death touch pacific sea eastern none ways whether japhet think paradise stood one find adams met first sweat surrounds may last blood soul purple receive give souls sermon mine may throws\n",
      "2 lily hand rosy cheek lies cozening pillow lawful therefore seems part swelling either side want whose hills head entombed virtuous monument admired lewd unhallowed without bed fair hand green whose perfect white showed april daisy pearly sweat resembling dew sheathed canopied darkness sweetly lay till might open adorn hair golden threads played breath modest wanton showing lifes triumph map deaths dim look lifes sleep beautify twain life lived death breasts ivory globes circled pair maiden worlds save bearing yoke oath truly worlds tarquin new ambition foul usurper went fair throne heave owner could see mightily note strongly firmly willful eye admiration admired azure alabaster coral dimpled grim lion fawneth oer prey sharp hunger conquest oer sleeping soul tarquin rage lust gazing standing late mutiny unto greater uproar tempts straggling slaves pillage obdurate vassals fell exploits bloody death ravishment childrens tears mothers groans swell onset still anon beating alarum gives hot charge bids drumming heart cheers burning eye commends leading proud smoking marched make stand bare heart whose ranks blue hand left round turrets destitute mustering quiet cabinet dear governess tell dreadfully beset fright confusion much breaks ope peeping forth tumult flaming torch dimmed imagine one dead night forth dull sleep dreadful fancy thinks hath beheld ghastly whose grim aspect sets every joint terror worser sleep heedfully view sight makes supposed terror wrapped confounded thousand bird trembling dares appears antics ugly shadows weak brains angry eyes fly darkness daunts dreadful yet remains upon breast batter ivory may feel heart wounding rise beating hand shakes moves rage lesser make breach enter sweet\n",
      "3 loud put great quiet still may lie ease wonder old ship hark surge strong thunder full look fishing fleet shadows lost slide fog warning betrays watch liner climbing bright wake shining never know done ever old borne fight full endeavour ebb\n",
      "4 low sandy beach thin scrub wide reach bay long sky sick salt smell thick sea smooth round stones ebbtides good ship wretched stumps charred deep soft rut cartwheel world lapping broad gray sky cawing crows slow gulls dead slant willows flooded huge stranded hulk floating sorrow life among dark along flat become\n",
      "5 love sickness full remedies plant cutting barren best enjoy sighting heigh love torment tempest jove hath made kind enjoy sighing heigh\n",
      "6 sake hold chide five gray ruined fortune wealth mind arts take get observe stamped face injured ships sighs says tears overflowed colds forward spring heats veins fill add one plaguy soldiers find lawyers find still litigious quarrels though call us made call another tapers cost us find eagle phnix riddle hath wit two one neutral thing sexes die rise prove mysterious die live unfit tombs hearse legend fit piece chronicle build sonnets pretty well urn becomes greatest approve us canonized thus invoke reverend love made one love whole soul drove glasses eyes made beg pattern\n",
      "7 world love truth every shepherds pretty pleasures might live time drives flocks field rivers rage rocks grow philomel becometh rest complains cares flowers wanton wayward winter reckoning honey heart fancys sorrows beds posies soon soon soon folly reason belt straw ivy coral clasps amber means move come could youth love still joys age delights mind might move live\n",
      "8 idea order key west collected alfred division random\n",
      "9 whereof millions strange shadows since every one every one every shadow describe counterfeit poorly imitated cheek art beauty grecian tires painted speak spring foison one shadow beauty bounty every blessed shape external grace none constant\n"
     ]
    }
   ],
   "source": [
    "\n",
    "similarity = np.asarray(np.asmatrix(X_train_lsa) * np.asmatrix(X_train_lsa).T)\n",
    "#Only taking the first 10 sentences\n",
    "sim_matrix=pd.DataFrame(similarity,index=X_train).iloc[0:10,0:10]\n",
    "#Making a plot\n",
    "ax = sns.heatmap(sim_matrix,yticklabels=range(10))\n",
    "plt.show()\n",
    "\n",
    "#Generating a key for the plot.\n",
    "print('Key:')\n",
    "for i in range(10):\n",
    "    print(i,sim_matrix.index[i])\n"
   ]
  },
  {
   "cell_type": "markdown",
   "metadata": {},
   "source": [
    "All 10 sentences seem to (however small) positively correlated to each other which means our grouping mechanisms make sense."
   ]
  },
  {
   "cell_type": "code",
   "execution_count": 564,
   "metadata": {
    "collapsed": true
   },
   "outputs": [],
   "source": [
    "\n",
    "from sklearn.decomposition import NMF, LatentDirichletAllocation as LDA"
   ]
  },
  {
   "cell_type": "code",
   "execution_count": 704,
   "metadata": {
    "collapsed": true
   },
   "outputs": [],
   "source": [
    "n_samples = 2000\n",
    "n_features = 1000\n",
    "n_components = 3\n",
    "n_top_words = 40"
   ]
  },
  {
   "cell_type": "code",
   "execution_count": 705,
   "metadata": {
    "collapsed": true
   },
   "outputs": [],
   "source": [
    "lda = LDA(3, max_iter=5,\n",
    "                                learning_method='online',\n",
    "                                learning_offset=50.,\n",
    "                                random_state=0)"
   ]
  },
  {
   "cell_type": "code",
   "execution_count": 706,
   "metadata": {
    "collapsed": true
   },
   "outputs": [],
   "source": [
    "def print_topics(model, vectorizer, top_n=20):\n",
    "    for idx, topic in enumerate(model.components_):\n",
    "        print(\"Topic %d:\" % (idx))\n",
    "        print([(vectorizer.get_feature_names()[i], topic[i])\n",
    "                        for i in topic.argsort()[:-top_n - 1:-1]])\n",
    "        print(\"=\" * 100)"
   ]
  },
  {
   "cell_type": "code",
   "execution_count": 707,
   "metadata": {},
   "outputs": [
    {
     "name": "stdout",
     "output_type": "stream",
     "text": [
      "LDA Model:\n",
      "Topic 0:\n",
      "[('used', 9.527451424733087), ('march', 5.81813007795252), ('asphodel', 5.4832133158199312), ('straus', 3.1020975422041777), ('blue', 2.788007577342452), ('motet', 2.0555855384294603), ('song', 1.9511169690682084), ('university', 1.6359534557072961), ('magic', 1.5079395032220726), ('act', 1.3978012330803635), ('division', 1.2808375807392911), ('ghosts', 1.2757464296661796), ('importune', 1.2510708038835134), ('cover', 1.2043643943501539), ('kent', 1.1341434622751803), ('penguin', 1.1175584313196394), ('wanted', 1.0974638592039871), ('river', 1.0835392323543795), ('doubleday', 1.0651953904787361), ('state', 1.0132217454437427)]\n",
      "====================================================================================================\n",
      "Topic 1:\n",
      "[('new', 6.3563714458170297), ('directions', 6.1678783052153969), ('cantos', 4.4604544086140852), ('riach', 2.9030048664783283), ('alan', 2.8903016862971627), ('collected', 2.3006562554072185), ('december', 2.034738361117701), ('random', 1.909845873777938), ('jubal', 1.8863160632771945), ('russell', 1.8502529434930226), ('agents', 1.8268836402238384), ('phoebe', 1.8081012704558654), ('georgie', 1.7412511463937341), ('behalf', 1.6709284543188183), ('macmillan', 1.6456349447211824), ('renewed', 1.5966756782968696), ('brandt', 1.3398118915531274), ('hochman', 1.2533206695032604), ('literary', 1.234799099713854), ('black', 1.2127329578166328)]\n",
      "====================================================================================================\n",
      "Topic 2:\n",
      "[('love', 17.130480953681875), ('liveright', 7.1980161934635598), ('eyes', 7.0414029557078965), ('heart', 6.9096388055210776), ('estate', 6.8182351720199463), ('sweet', 6.5447680596206421), ('complete', 6.3741572862707372), ('hath', 6.3424765169012947), ('come', 6.1183703530788351), ('ye', 5.8587036871970115), ('little', 5.8490357067906951), ('make', 5.7325850480807006), ('august', 5.7078115219204681), ('fair', 5.6386623047384372), ('beauty', 5.5774037937725494), ('time', 5.3675533725027105), ('know', 5.2281888930177765), ('old', 5.2281865605867326), ('till', 4.9849875033961322), ('world', 4.8070173737822248)]\n",
      "====================================================================================================\n"
     ]
    }
   ],
   "source": [
    "\n",
    "lda.fit(X)\n",
    "\n",
    "print(\"LDA Model:\")\n",
    "print_topics(lda, tfidf)\n"
   ]
  },
  {
   "cell_type": "code",
   "execution_count": 708,
   "metadata": {},
   "outputs": [
    {
     "data": {
      "text/plain": [
       "array([[ 0.03694519,  0.03676761,  0.9262872 ],\n",
       "       [ 0.07150372,  0.07172553,  0.85677074],\n",
       "       [ 0.08073528,  0.0882941 ,  0.83097062],\n",
       "       ..., \n",
       "       [ 0.06019874,  0.05990295,  0.87989831],\n",
       "       [ 0.05424984,  0.05427565,  0.89147452],\n",
       "       [ 0.05674746,  0.0570092 ,  0.88624335]])"
      ]
     },
     "execution_count": 708,
     "metadata": {},
     "output_type": "execute_result"
    }
   ],
   "source": [
    "lda.transform(X)"
   ]
  },
  {
   "cell_type": "code",
   "execution_count": 713,
   "metadata": {},
   "outputs": [
    {
     "name": "stdout",
     "output_type": "stream",
     "text": [
      "(573, 3)\n",
      "(573, 3)\n",
      "(573, 3)\n",
      "[ 0.00426667  0.00454013  0.99119321]\n",
      "[ 0.31288101  0.1325304   0.        ]\n",
      "[ 2.74978345 -0.55207295 -2.07773908]\n"
     ]
    }
   ],
   "source": [
    "# we can try other models for topic modelling \n",
    "from sklearn.decomposition import NMF, LatentDirichletAllocation, TruncatedSVD\n",
    "from sklearn.feature_extraction.text import CountVectorizer\n",
    " \n",
    "NUM_TOPICS = 3\n",
    " \n",
    "vectorizer = CountVectorizer(min_df=3, max_df=0.9, \n",
    "                             stop_words='english', lowercase=True, \n",
    "                             token_pattern='[a-zA-Z\\-][a-zA-Z\\-]{2,}')\n",
    "data_vectorized = vectorizer.fit_transform(poetry)\n",
    " \n",
    "# Build a Latent Dirichlet Allocation Model\n",
    "lda_model = LatentDirichletAllocation(n_topics=NUM_TOPICS, max_iter=10, learning_method='online')\n",
    "lda_Z = lda_model.fit_transform(data_vectorized)\n",
    "print(lda_Z.shape)  # (NO_DOCUMENTS, NO_TOPICS)\n",
    " \n",
    "# Build a Non-Negative Matrix Factorization Model\n",
    "nmf_model = NMF(n_components=NUM_TOPICS)\n",
    "nmf_Z = nmf_model.fit_transform(data_vectorized)\n",
    "print(nmf_Z.shape)  # (NO_DOCUMENTS, NO_TOPICS)\n",
    " \n",
    "# Build a Latent Semantic Indexing Model\n",
    "lsi_model = TruncatedSVD(n_components=NUM_TOPICS)\n",
    "lsi_Z = lsi_model.fit_transform(data_vectorized)\n",
    "print(lsi_Z.shape)  # (NO_DOCUMENTS, NO_TOPICS)\n",
    " \n",
    " \n",
    "\n",
    "print(lda_Z[0])\n",
    "print(nmf_Z[0])\n",
    "print(lsi_Z[0])\n",
    " "
   ]
  },
  {
   "cell_type": "code",
   "execution_count": 718,
   "metadata": {},
   "outputs": [
    {
     "name": "stdout",
     "output_type": "stream",
     "text": [
      "LDA Model:\n",
      "Topic 0:\n",
      "[('love', 54.551760711448317), ('live', 35.094383753286344), ('liveright', 20.969606532501803), ('complete', 20.711578826060819), ('winter', 17.269070742683375), ('used', 16.725856717944545), ('age', 16.397497880882785), ('black', 16.302624117295338), ('come', 16.301401429559988), ('silver', 16.032017490230807), ('youth', 15.634004833662614), ('time', 15.622633315173656), ('turned', 14.880994694874854), ('beauty', 14.619749858955096), ('years', 14.307670505716105), ('autumn', 14.005123290070975), ('little', 13.865707443952903), ('spring', 13.407334501049089), ('street', 13.109626496568913), ('hearest', 12.025107625694705)]\n",
      "====================================================================================================\n",
      "Topic 1:\n",
      "[('love', 232.71685018032238), ('eyes', 89.90391252401183), ('sweet', 88.634843893842486), ('heart', 86.603504853167081), ('hath', 86.412459196664898), ('know', 78.498142126934482), ('till', 73.207230116060728), ('fair', 71.54815633686033), ('time', 71.195887723427816), ('old', 69.544163318714965), ('great', 67.211080335852955), ('little', 64.920487539661238), ('long', 63.733792927849422), ('light', 62.616200583634189), ('make', 61.820582773745784), ('man', 59.584392979147864), ('world', 56.514427351647619), ('beauty', 56.290420035147143), ('white', 51.986300887139521), ('look', 49.481362744363167)]\n",
      "====================================================================================================\n",
      "Topic 2:\n",
      "[('love', 109.51016332667321), ('come', 54.727354796619686), ('doe', 40.06818025596624), ('think', 39.108034463069885), ('new', 38.380524920049758), ('make', 37.84854758647613), ('eyes', 33.628774162319807), ('men', 30.580875091351228), ('night', 28.644076690581933), ('long', 27.458003777289584), ('day', 26.769206717338609), ('used', 25.842540378878255), ('unto', 25.251502338031447), ('hath', 25.140261811783073), ('bring', 24.078636096444548), ('theyr', 23.21420915203359), ('loves', 23.177147851386238), ('tell', 22.629037216461406), ('woods', 20.087749157784835), ('fayre', 19.733625723221834)]\n",
      "====================================================================================================\n"
     ]
    }
   ],
   "source": [
    "\n",
    "print(\"LDA Model:\")\n",
    "print_topics(lda_model, vectorizer)\n",
    "\n"
   ]
  },
  {
   "cell_type": "markdown",
   "metadata": {},
   "source": [
    "Looking at our LDA models it seems that love is extremely highly correlated no matter the category. Despite this, topic 0 seems to deal with 'nature' in both instances and topic 2 has 'love' as the highest correlated word for both models. After running our sets we have come up with 3 categories for seperating our data, 'Nature', 'Love', and 'Miscellaneous'. This differs slightly from the initial clustering based on the poems themselves which included a mythology catergory. Few of our models had any words which correlated to mythology so we decided to leave it out of our new categories. It is time to run some models to check how well we can predict the correct categories of our poems."
   ]
  },
  {
   "cell_type": "markdown",
   "metadata": {},
   "source": [
    "## Running Models"
   ]
  },
  {
   "cell_type": "markdown",
   "metadata": {},
   "source": [
    "### By Category"
   ]
  },
  {
   "cell_type": "code",
   "execution_count": 717,
   "metadata": {},
   "outputs": [
    {
     "data": {
      "text/plain": [
       "array([ 0.00426667,  0.00454013,  0.99119321])"
      ]
     },
     "execution_count": 717,
     "metadata": {},
     "output_type": "execute_result"
    }
   ],
   "source": [
    "lda_Z[0]"
   ]
  },
  {
   "cell_type": "code",
   "execution_count": 720,
   "metadata": {
    "collapsed": true
   },
   "outputs": [],
   "source": [
    "labels=[] \n",
    "for i in lda_Z:\n",
    "    labels.append(i.argsort()[-1])"
   ]
  },
  {
   "cell_type": "code",
   "execution_count": 752,
   "metadata": {},
   "outputs": [],
   "source": [
    "y=df['label']=labels\n"
   ]
  },
  {
   "cell_type": "code",
   "execution_count": 753,
   "metadata": {
    "collapsed": true
   },
   "outputs": [],
   "source": [
    "df['label'] = df.label.apply(lambda x: 'Misc' if x ==1 else( 'Nature' if x==0 else( 'Love' if x==2 else('Misc'))))\n",
    "#print(df['label'])"
   ]
  },
  {
   "cell_type": "code",
   "execution_count": 723,
   "metadata": {},
   "outputs": [
    {
     "data": {
      "text/html": [
       "<div>\n",
       "<style>\n",
       "    .dataframe thead tr:only-child th {\n",
       "        text-align: right;\n",
       "    }\n",
       "\n",
       "    .dataframe thead th {\n",
       "        text-align: left;\n",
       "    }\n",
       "\n",
       "    .dataframe tbody tr th {\n",
       "        vertical-align: top;\n",
       "    }\n",
       "</style>\n",
       "<table border=\"1\" class=\"dataframe\">\n",
       "  <thead>\n",
       "    <tr style=\"text-align: right;\">\n",
       "      <th></th>\n",
       "      <th>author</th>\n",
       "      <th>content</th>\n",
       "      <th>poem name</th>\n",
       "      <th>age</th>\n",
       "      <th>type</th>\n",
       "      <th>type2</th>\n",
       "      <th>age2</th>\n",
       "      <th>label</th>\n",
       "    </tr>\n",
       "  </thead>\n",
       "  <tbody>\n",
       "    <tr>\n",
       "      <th>0</th>\n",
       "      <td>WILLIAM SHAKESPEARE</td>\n",
       "      <td>Let the bird of loudest lay\\nOn the sole Arabi...</td>\n",
       "      <td>The Phoenix and the Turtle</td>\n",
       "      <td>Renaissance</td>\n",
       "      <td>Mythology &amp; Folklore</td>\n",
       "      <td>1</td>\n",
       "      <td>1</td>\n",
       "      <td>Love</td>\n",
       "    </tr>\n",
       "    <tr>\n",
       "      <th>1</th>\n",
       "      <td>DUCHESS OF NEWCASTLE MARGARET CAVENDISH</td>\n",
       "      <td>Sir Charles into my chamber coming in,\\nWhen I...</td>\n",
       "      <td>An Epilogue to the Above</td>\n",
       "      <td>Renaissance</td>\n",
       "      <td>Mythology &amp; Folklore</td>\n",
       "      <td>1</td>\n",
       "      <td>1</td>\n",
       "      <td>Love</td>\n",
       "    </tr>\n",
       "  </tbody>\n",
       "</table>\n",
       "</div>"
      ],
      "text/plain": [
       "                                    author  \\\n",
       "0                      WILLIAM SHAKESPEARE   \n",
       "1  DUCHESS OF NEWCASTLE MARGARET CAVENDISH   \n",
       "\n",
       "                                             content  \\\n",
       "0  Let the bird of loudest lay\\nOn the sole Arabi...   \n",
       "1  Sir Charles into my chamber coming in,\\nWhen I...   \n",
       "\n",
       "                    poem name          age                  type  type2  age2  \\\n",
       "0  The Phoenix and the Turtle  Renaissance  Mythology & Folklore      1     1   \n",
       "1    An Epilogue to the Above  Renaissance  Mythology & Folklore      1     1   \n",
       "\n",
       "  label  \n",
       "0  Love  \n",
       "1  Love  "
      ]
     },
     "execution_count": 723,
     "metadata": {},
     "output_type": "execute_result"
    }
   ],
   "source": [
    "df.head(2)"
   ]
  },
  {
   "cell_type": "code",
   "execution_count": 772,
   "metadata": {},
   "outputs": [
    {
     "data": {
      "text/plain": [
       "((573, 4085), (573,))"
      ]
     },
     "execution_count": 772,
     "metadata": {},
     "output_type": "execute_result"
    }
   ],
   "source": [
    "lg= LogisticRegression() \n",
    "y=df.label\n",
    "y_train, y_test = train_test_split(df['label'], test_size=0.4, random_state=0)\n",
    "X.shape, y.shape"
   ]
  },
  {
   "cell_type": "code",
   "execution_count": 812,
   "metadata": {},
   "outputs": [],
   "source": [
    "feature_array = np.array(tfidf.get_feature_names())\n",
    "tfidf_sorting = np.argsort(X).flatten()[::-1]\n",
    "\n",
    "n = 10\n",
    "top_n = feature_array[tfidf_sorting][:n]\n"
   ]
  },
  {
   "cell_type": "code",
   "execution_count": 813,
   "metadata": {},
   "outputs": [
    {
     "name": "stdout",
     "output_type": "stream",
     "text": [
      "Coefficients\n",
      "[[-10.48284168  -7.61905362  -0.05674817 ...,  -0.3674827    0.52006352\n",
      "   -0.76512128]\n",
      " [ -0.14603547  -0.24813781   0.4656215  ...,   0.86069192  -0.2211943\n",
      "   -0.53090282]\n",
      " [  2.53753942   7.63714274  -0.51359787 ...,  -0.50421738  -0.22976133\n",
      "    1.34621477]]\n",
      "[  3.65452493 -13.75880311  -3.36047694]\n",
      "\n",
      " Accuracy by admission status\n",
      "label   Love  Misc  Nature\n",
      "row_0                     \n",
      "Love     112     0       3\n",
      "Misc      52   314      38\n",
      "Nature     0     0      54\n",
      "\n",
      " Percentage accuracy\n",
      "0.837696335079\n",
      "Top Ten Features:\n",
      "['hearest' 'potuia' 'lisp' 'whispered' 'aforetime' 'solitudes' 'ceased'\n",
      " 'cicada' 'shepherd' 'noons']\n"
     ]
    }
   ],
   "source": [
    "logmodel= lg.fit(X,y)\n",
    "lg.score(X,y)\n",
    "print('Coefficients')\n",
    "print(fit.coef_)\n",
    "print(fit.intercept_)\n",
    "pred_y_sklearn = lg.predict(X)\n",
    "\n",
    "print('\\n Accuracy by admission status')\n",
    "print(pd.crosstab(pred_y_sklearn, y))\n",
    "\n",
    "print('\\n Percentage accuracy')\n",
    "print(lg.score(X, y))\n",
    "\n",
    "print ('Top Ten Features:')\n",
    "print(top_n)"
   ]
  },
  {
   "cell_type": "code",
   "execution_count": 728,
   "metadata": {},
   "outputs": [],
   "source": [
    "from sklearn import ensemble\n",
    "rfc = ensemble.RandomForestClassifier()"
   ]
  },
  {
   "cell_type": "code",
   "execution_count": 773,
   "metadata": {},
   "outputs": [
    {
     "name": "stdout",
     "output_type": "stream",
     "text": [
      "Score: 0.991253644315\n"
     ]
    }
   ],
   "source": [
    "forest =rfc.fit(X_train_tfidf, y_train)\n",
    "print('Score:', rfc.score(X_train_tfidf,y_train))"
   ]
  },
  {
   "cell_type": "code",
   "execution_count": 774,
   "metadata": {},
   "outputs": [
    {
     "name": "stdout",
     "output_type": "stream",
     "text": [
      "Score: 0.991304347826\n"
     ]
    }
   ],
   "source": [
    "forest2=rfc.fit(X_test_tfidf, y_test)\n",
    "print('Score:', rfc.score(X_test_tfidf,y_test))"
   ]
  },
  {
   "cell_type": "code",
   "execution_count": 755,
   "metadata": {},
   "outputs": [
    {
     "data": {
      "text/plain": [
       "KNeighborsRegressor(algorithm='auto', leaf_size=30, metric='minkowski',\n",
       "          metric_params=None, n_jobs=1, n_neighbors=10, p=2,\n",
       "          weights='uniform')"
      ]
     },
     "execution_count": 755,
     "metadata": {},
     "output_type": "execute_result"
    }
   ],
   "source": [
    "from sklearn import neighbors\n",
    "# Build our model.\n",
    "knn = neighbors.KNeighborsRegressor(n_neighbors=10)\n",
    "knn.fit(X, y)"
   ]
  },
  {
   "cell_type": "code",
   "execution_count": 757,
   "metadata": {},
   "outputs": [
    {
     "name": "stdout",
     "output_type": "stream",
     "text": [
      "Unweighted Accuracy: -0.25 (+/- 0.66)\n"
     ]
    }
   ],
   "source": [
    "from sklearn.model_selection import cross_val_score\n",
    "score = cross_val_score(knn, X, y, cv=5)\n",
    "print(\"Unweighted Accuracy: %0.2f (+/- %0.2f)\" % (score.mean(), score.std() * 2))"
   ]
  },
  {
   "cell_type": "code",
   "execution_count": null,
   "metadata": {
    "collapsed": true
   },
   "outputs": [],
   "source": [
    "Expectedly our KNN model does quite poorly. "
   ]
  },
  {
   "cell_type": "markdown",
   "metadata": {},
   "source": [
    "### By Age"
   ]
  },
  {
   "cell_type": "code",
   "execution_count": 766,
   "metadata": {},
   "outputs": [
    {
     "data": {
      "text/plain": [
       "((573, 4085), (573,))"
      ]
     },
     "execution_count": 766,
     "metadata": {},
     "output_type": "execute_result"
    }
   ],
   "source": [
    "lg= LogisticRegression() \n",
    "z=df.age2\n",
    "X.shape, z.shape"
   ]
  },
  {
   "cell_type": "code",
   "execution_count": 767,
   "metadata": {},
   "outputs": [
    {
     "name": "stdout",
     "output_type": "stream",
     "text": [
      "Coefficients\n",
      "[[-10.48284168  -7.61905362  -0.05674817 ...,  -0.3674827    0.52006352\n",
      "   -0.76512128]\n",
      " [ -0.14603547  -0.24813781   0.4656215  ...,   0.86069192  -0.2211943\n",
      "   -0.53090282]\n",
      " [  2.53753942   7.63714274  -0.51359787 ...,  -0.50421738  -0.22976133\n",
      "    1.34621477]]\n",
      "[  3.65452493 -13.75880311  -3.36047694]\n",
      "\n",
      " Accuracy by admission status\n",
      "age2     1    2\n",
      "row_0          \n",
      "1      314    5\n",
      "2        1  253\n",
      "\n",
      " Percentage accuracy\n",
      "0.989528795812\n"
     ]
    }
   ],
   "source": [
    "lg.fit(X, z) \n",
    "lg.score(X,z)\n",
    "print('Coefficients')\n",
    "print(fit.coef_)\n",
    "print(fit.intercept_)\n",
    "pred_y_sklearn = lg.predict(X)\n",
    "\n",
    "print('\\n Accuracy by admission status')\n",
    "print(pd.crosstab(pred_y_sklearn, z))\n",
    "\n",
    "print('\\n Percentage accuracy')\n",
    "print(lg.score(X, z))"
   ]
  },
  {
   "cell_type": "code",
   "execution_count": 768,
   "metadata": {},
   "outputs": [
    {
     "data": {
      "text/plain": [
       "KNeighborsRegressor(algorithm='auto', leaf_size=30, metric='minkowski',\n",
       "          metric_params=None, n_jobs=1, n_neighbors=10, p=2,\n",
       "          weights='uniform')"
      ]
     },
     "execution_count": 768,
     "metadata": {},
     "output_type": "execute_result"
    }
   ],
   "source": [
    "knn = neighbors.KNeighborsRegressor(n_neighbors=10)\n",
    "knn.fit(X, z)"
   ]
  },
  {
   "cell_type": "code",
   "execution_count": 769,
   "metadata": {},
   "outputs": [
    {
     "name": "stdout",
     "output_type": "stream",
     "text": [
      "Unweighted Accuracy: -0.08 (+/- 0.32)\n"
     ]
    }
   ],
   "source": [
    "score = cross_val_score(knn, X, z, cv=5)\n",
    "print(\"Unweighted Accuracy: %0.2f (+/- %0.2f)\" % (score.mean(), score.std() * 2))"
   ]
  },
  {
   "cell_type": "code",
   "execution_count": 770,
   "metadata": {},
   "outputs": [
    {
     "name": "stdout",
     "output_type": "stream",
     "text": [
      "Score: 0.99127399651\n"
     ]
    }
   ],
   "source": [
    "forest3 =rfc.fit(X, z)\n",
    "print('Score:', rfc.score(X,z))"
   ]
  },
  {
   "cell_type": "markdown",
   "metadata": {},
   "source": [
    "### In Conclusion"
   ]
  },
  {
   "cell_type": "markdown",
   "metadata": {},
   "source": [
    "Our first step to this process was cleaning our poems and stripping them of any unnessecary punctuation, and words which would not help our unsupervised learning. By using these unsupervised learning techniques we were able to construct new groups for us to seperate our poems into. Then after finding the words which most highly corresponded with each of our 3 categories, we were able to use supervised learning to create a model to seperate the poems by their new categories. In doing this our models had varying degrees of success. We also tried using our newly parsed poems to see if we can still accurately seperate the poems by age as they had been in the original corpus. Our parsed poems still were able to be put into the correct category with great accuracy showing that the parsing did not have an effect on identifying ages."
   ]
  },
  {
   "cell_type": "code",
   "execution_count": null,
   "metadata": {
    "collapsed": true
   },
   "outputs": [],
   "source": []
  }
 ],
 "metadata": {
  "kernelspec": {
   "display_name": "Python 3",
   "language": "python",
   "name": "python3"
  },
  "language_info": {
   "codemirror_mode": {
    "name": "ipython",
    "version": 3
   },
   "file_extension": ".py",
   "mimetype": "text/x-python",
   "name": "python",
   "nbconvert_exporter": "python",
   "pygments_lexer": "ipython3",
   "version": "3.6.1"
  }
 },
 "nbformat": 4,
 "nbformat_minor": 2
}
